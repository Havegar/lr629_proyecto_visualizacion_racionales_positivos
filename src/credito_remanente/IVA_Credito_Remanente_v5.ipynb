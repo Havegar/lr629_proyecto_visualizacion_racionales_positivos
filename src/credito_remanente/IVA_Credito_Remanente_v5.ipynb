{
 "cells": [
  {
   "cell_type": "markdown",
   "id": "9744d766-f8fc-4c9f-ac2e-0af0a0cea75d",
   "metadata": {
    "tags": []
   },
   "source": [
    "#### Actualización de proyecto: Cálculo de remanente de crédito contaminado.\n",
    "Actualizado para primer periodo de caluclo historico. \n",
    "Se agrega la contaminacion a causa de la emision de documentos de tipo 30 sin autorización."
   ]
  },
  {
   "cell_type": "code",
   "execution_count": 1,
   "id": "588f71ba-b30c-44b3-affb-1606b212b39d",
   "metadata": {
    "tags": []
   },
   "outputs": [],
   "source": [
    "from pyspark.sql import SparkSession\n",
    "from pyspark.sql.functions import *\n",
    "from pyspark import SparkContext, SparkConf\n",
    "import pyspark\n",
    "import pandas as pd\n",
    "from pyspark.sql.utils import AnalysisException\n"
   ]
  },
  {
   "cell_type": "code",
   "execution_count": 2,
   "id": "339be8d2-1dcc-4453-8320-e52b57fe877d",
   "metadata": {
    "tags": []
   },
   "outputs": [
    {
     "name": "stderr",
     "output_type": "stream",
     "text": [
      "Setting spark.hadoop.yarn.resourcemanager.principal to hvega.externo\n"
     ]
    }
   ],
   "source": [
    "\n",
    "ss_name = 'Ejecucion algoritmo IVA Credito Remanente'\n",
    "wg_conn = \"spark.kerberos.access.hadoopFileSystems\"\n",
    "db_conn = \"abfs://data@datalakesii.dfs.core.windows.net/\"\n",
    "\n",
    "spark = SparkSession.builder \\\n",
    "      .appName(f\"Ejecucion algoritmo {ss_name}\")  \\\n",
    "      .config(wg_conn, db_conn) \\\n",
    "      .config(\"spark.executor.memory\", \"6g\") \\\n",
    "      .config(\"spark.driver.memory\", \"12g\")\\\n",
    "      .config(\"spark.executor.cores\", \"4\") \\\n",
    "      .config(\"spark.executor.instances\", \"5\") \\\n",
    "      .config(\"spark.driver.maxResultSize\", \"12g\") \\\n",
    "      .getOrCreate()\n",
    "\n",
    "spark.sparkContext.setLogLevel(\"ERROR\")\n",
    "\n",
    "spark.conf.set(\"spark.sql.parquet.enableVectorizedReader\",\"false\")\n",
    "spark.conf.set(\"spark.sql.parquet.int96RebaseModeInRead\", \"CORRECTED\")\n",
    "spark.conf.set(\"spark.sql.parquet.int96RebaseModeInWrite\", \"CORRECTED\")\n",
    "spark.conf.set(\"spark.sql.parquet.datetimeRebaseModeInRead\", \"CORRECTED\")\n",
    "spark.conf.set(\"spark.sql.parquet.datetimeRebaseModeInWrite\", \"CORRECTED\")\n"
   ]
  },
  {
   "cell_type": "code",
   "execution_count": 3,
   "id": "03e0bac2-1376-4306-b9e8-a4a0c6b286a6",
   "metadata": {
    "tags": []
   },
   "outputs": [],
   "source": [
    "spark.stop()"
   ]
  },
  {
   "cell_type": "code",
   "execution_count": 3,
   "id": "f7a0ced9-9873-4d5c-b62f-aa69ac9ffe9c",
   "metadata": {
    "tags": []
   },
   "outputs": [],
   "source": [
    "#spark.read.parquet(\"abfs://data@datalakesii.dfs.core.windows.net/DatosOrigen//DW/DW_TRN_F29_E\").registerTempTable('tmp_f29_0')\n",
    "#spark.sql(\"select * from dw.dw_trn_f29_e limit 1\").show()"
   ]
  },
  {
   "cell_type": "code",
   "execution_count": 4,
   "id": "8619d0cb-aa66-49a7-a3a0-2aa80e92be23",
   "metadata": {
    "tags": []
   },
   "outputs": [
    {
     "name": "stdout",
     "output_type": "stream",
     "text": [
      "202212\n"
     ]
    }
   ],
   "source": [
    "Periodo = 202301\n",
    "Periodo_Ant = str(Periodo)\n",
    "\n",
    "if Periodo_Ant[-2:] == '01':\n",
    "    # Si el periodo es el primero del año (Enero), ajusta al último mes del año anterior\n",
    "    Periodo_Ant = str(int(Periodo_Ant[:4]) - 1) + \"12\"\n",
    "else:\n",
    "    # De lo contrario, solo resta 1 al periodo actual\n",
    "    Periodo_Ant = str(Periodo - 1).zfill(6)  # Asegura que el formato sea correcto (6 dígitos)\n",
    "\n",
    "# Convierte Periodo_Ant a entero\n",
    "Periodo_Ant = int(Periodo_Ant)\n",
    "print(Periodo_Ant)\n"
   ]
  },
  {
   "cell_type": "code",
   "execution_count": 5,
   "id": "d861bc9b-12a8-4685-8798-7c63cf10a037",
   "metadata": {
    "tags": []
   },
   "outputs": [
    {
     "name": "stderr",
     "output_type": "stream",
     "text": [
      "/opt/spark/python/lib/pyspark.zip/pyspark/sql/dataframe.py:138: FutureWarning: Deprecated in 2.0, use createOrReplaceTempView instead.\n"
     ]
    },
    {
     "name": "stdout",
     "output_type": "stream",
     "text": [
      "Archivo cargado y tabla temporal registrada exitosamente.\n"
     ]
    }
   ],
   "source": [
    "#tmp_historico: Carga de REsultados histórico\n",
    "try:\n",
    "    spark.read.parquet(\"abfs://data@datalakesii.dfs.core.windows.net/DatosOrigen/lr-629/iva_credito/intermedia/historico_updated\")\\\n",
    "          .registerTempTable('tmp_historico')\n",
    "    print(\"Archivo cargado y tabla temporal registrada exitosamente.\")\n",
    "    exists_hist=1\n",
    "except AnalysisException as e:\n",
    "    if 'Path does not exist' in str(e):\n",
    "        print(\"El archivo no está disponible en la ruta especificada.\")\n",
    "        exists_hist=0\n",
    "    else:\n",
    "        print(\"Ocurrió un error al intentar leer el archivo:\", str(e))"
   ]
  },
  {
   "cell_type": "code",
   "execution_count": 6,
   "id": "62c2f949-f710-4539-a3b0-9880d937b6b9",
   "metadata": {
    "tags": []
   },
   "outputs": [
    {
     "name": "stderr",
     "output_type": "stream",
     "text": [
      "                                                                                \r"
     ]
    },
    {
     "name": "stdout",
     "output_type": "stream",
     "text": [
      "respaldo de tmp_historico ok\n"
     ]
    }
   ],
   "source": [
    "if exists_hist==1:\n",
    "    df=spark.sql(\"select * from tmp_historico\")\n",
    "    df.write.mode('overwrite').format(\"parquet\").save(\"abfs://data@datalakesii.dfs.core.windows.net/DatosOrigen/lr-629/iva_credito/intermedia/historico_resp\")\n",
    "    print(\"respaldo de tmp_historico ok\")"
   ]
  },
  {
   "cell_type": "code",
   "execution_count": 7,
   "id": "23a08430-473f-4c64-8b5c-9edce4cbe12e",
   "metadata": {},
   "outputs": [],
   "source": [
    "exists_hist=0"
   ]
  },
  {
   "cell_type": "code",
   "execution_count": 8,
   "id": "ae690dd5-2247-4d63-82c4-f99f8cf106d6",
   "metadata": {
    "tags": []
   },
   "outputs": [
    {
     "name": "stderr",
     "output_type": "stream",
     "text": [
      "Hive Session ID = 0173662b-3dd3-4793-bc4e-987f1aea1243\n",
      "                                                                                \r"
     ]
    },
    {
     "name": "stdout",
     "output_type": "stream",
     "text": [
      "tmp_f29_unico_ant ok\n"
     ]
    }
   ],
   "source": [
    "#Quida duplicados\n",
    "df=spark.sql(f\"select max(F29_HFRM_FOLIO_vo) as max_folio, cont_rut,f29_agno_mes_tributario_vo as periodo\\\n",
    "           from dw.dw_trn_f29_e \\\n",
    "           where left(f29_agno_mes_tributario_vo,6) in ({Periodo_Ant}) \\\n",
    "          and  TIVA_COD_VALIDEZ  in( 1,3) \\\n",
    "          and  F29_c_537 > 0\\\n",
    "          group by cont_rut,f29_agno_mes_tributario_vo\")\n",
    "\n",
    "df.write.mode('overwrite').format(\"parquet\").save(\"abfs://data@datalakesii.dfs.core.windows.net/DatosOrigen/lr-629/iva_credito/intermedia/f29_unico\")\n",
    "print(\"tmp_f29_unico_ant ok\")"
   ]
  },
  {
   "cell_type": "code",
   "execution_count": 9,
   "id": "1d906e84-f5e6-4fc1-a5b3-79fb6350f37d",
   "metadata": {
    "tags": []
   },
   "outputs": [],
   "source": [
    "#tmp_f29_1: F29 del periodo\n",
    "spark.read.parquet(\"abfs://data@datalakesii.dfs.core.windows.net/DatosOrigen/lr-629/iva_credito/intermedia/f29_unico\")\\\n",
    "     .registerTempTable('tmp_f29_unico')"
   ]
  },
  {
   "cell_type": "code",
   "execution_count": 10,
   "id": "18c4737a-8b81-4c14-a812-be3caf4506ef",
   "metadata": {
    "tags": []
   },
   "outputs": [
    {
     "name": "stderr",
     "output_type": "stream",
     "text": [
      "                                                                                \r"
     ]
    },
    {
     "name": "stdout",
     "output_type": "stream",
     "text": [
      "tmp_f29_ant ok\n"
     ]
    }
   ],
   "source": [
    "# Paso 1\n",
    "# Declaraciones de F29 del periodo tributario anterior Periodo_Ant \n",
    "df=spark.sql(f\"select distinct t1.cont_rut,t1.f29_agno_mes_tributario_vo as periodo_ant,\\\n",
    "                  F29_c_537 as f29_537_ant, \\\n",
    "                  coalesce(F29_c_538,0) as f29_538_ant,\\\n",
    "                  coalesce(f29_c_77,0) as f29_77_ant,\\\n",
    "                  coalesce(F29_768,0)+coalesce(F29_767,0) as monto_cr_especial_ant,\\\n",
    "                  round(coalesce(f29_c_77,0)/(F29_c_537+ coalesce(F29_725,0)+coalesce(F29_c_704,0)+\\\n",
    "                  coalesce(F29_c_160,0)+coalesce(F29_C_126,0)+coalesce(F29_C_572,0)+\\\n",
    "                  coalesce(F29_768,0)+coalesce(F29_767,0)),6) as porc_remanente_ant\\\n",
    "           from dw.dw_trn_f29_e as t1\\\n",
    "           inner join tmp_f29_unico as t2 on t1.F29_HFRM_FOLIO_vo = t2.max_folio\\\n",
    "           where left(f29_agno_mes_tributario_vo,6) in ({Periodo_Ant}) \\\n",
    "           and   F29_c_537 > 0\\\n",
    "          and  TIVA_COD_VALIDEZ  in( 1,3) \")\n",
    "\n",
    "df.write.mode('overwrite').format(\"parquet\").save(\"abfs://data@datalakesii.dfs.core.windows.net/DatosOrigen/lr-629/iva_credito/intermedia/f29_ant\")\n",
    "\n",
    "#31.378.203\n",
    "#202112: 1.565.882\n",
    "        #5.282.343\n",
    "print(\"tmp_f29_ant ok\")"
   ]
  },
  {
   "cell_type": "code",
   "execution_count": 11,
   "id": "2240213d-be27-48ea-99f2-095797920cf5",
   "metadata": {
    "tags": []
   },
   "outputs": [],
   "source": [
    "#tmp_f29_ant': F29 del periodo ANTERIOR\n",
    "spark.read.parquet(\"abfs://data@datalakesii.dfs.core.windows.net/DatosOrigen/lr-629/iva_credito/intermedia/f29_ant\")\\\n",
    "          .registerTempTable('tmp_f29_ant')\n"
   ]
  },
  {
   "cell_type": "code",
   "execution_count": 12,
   "id": "8debe2bc-6f73-4f05-afa8-43d5383404fd",
   "metadata": {
    "tags": []
   },
   "outputs": [
    {
     "data": {
      "text/plain": [
       "202212"
      ]
     },
     "execution_count": 12,
     "metadata": {},
     "output_type": "execute_result"
    }
   ],
   "source": [
    "Periodo_Ant"
   ]
  },
  {
   "cell_type": "code",
   "execution_count": 13,
   "id": "495a5f58-dd84-4a49-818a-5da28956a77a",
   "metadata": {
    "tags": []
   },
   "outputs": [
    {
     "name": "stderr",
     "output_type": "stream",
     "text": [
      "                                                                                \r"
     ]
    },
    {
     "name": "stdout",
     "output_type": "stream",
     "text": [
      "tmp_f29_unico ok\n"
     ]
    }
   ],
   "source": [
    "#Quida duplicados\n",
    "df=spark.sql(f\"select max(F29_HFRM_FOLIO_vo) as max_folio, cont_rut,f29_agno_mes_tributario_vo as periodo\\\n",
    "           from dw.dw_trn_f29_e \\\n",
    "           where left(f29_agno_mes_tributario_vo,6) in ({Periodo}) \\\n",
    "          and  TIVA_COD_VALIDEZ  in( 1,3) \\\n",
    "          and  F29_c_537 > 0\\\n",
    "          group by cont_rut,f29_agno_mes_tributario_vo\")\n",
    "\n",
    "df.write.mode('overwrite').format(\"parquet\").save(\"abfs://data@datalakesii.dfs.core.windows.net/DatosOrigen/lr-629/iva_credito/intermedia/f29_unico\")\n",
    "\n",
    "print(\"tmp_f29_unico ok\")"
   ]
  },
  {
   "cell_type": "code",
   "execution_count": 14,
   "id": "e2a5ecdc-84e6-4131-adfe-6a65823ebba8",
   "metadata": {
    "tags": []
   },
   "outputs": [],
   "source": [
    "#tmp_f29_1: F29 del periodo\n",
    "spark.read.parquet(\"abfs://data@datalakesii.dfs.core.windows.net/DatosOrigen/lr-629/iva_credito/intermedia/f29_unico\")\\\n",
    "     .registerTempTable('tmp_f29_unico')"
   ]
  },
  {
   "cell_type": "code",
   "execution_count": 15,
   "id": "05b62e74-d982-4b00-b88e-83da0f82f34d",
   "metadata": {
    "tags": []
   },
   "outputs": [
    {
     "name": "stderr",
     "output_type": "stream",
     "text": [
      "                                                                                \r"
     ]
    }
   ],
   "source": [
    "# Paso 2\n",
    "# Declaraciones de F29 del periodo tributario Actual\n",
    "# se agrega código 504 de Remanente periodo anterior ajustado\n",
    "df=spark.sql(f\"select distinct t1.cont_rut,\\\n",
    "                  F29_c_502 as monto_fact, F29_c_503 as qty_fact, F29_c_519, \\\n",
    "                  F29_c_520,  t1.f29_agno_mes_tributario_vo as periodo,\\\n",
    "                  F29_762 as fact_re_sup, F29_766 as fact_re_const, F29_c_525 as fact_re_act,coalesce(F29_c_528,0) as nc_re,\\\n",
    "                  coalesce(F29_c_520,0) +coalesce(F29_762,0)+coalesce(F29_766,0)+coalesce(F29_c_525,0) as monto_fact_re,  \\\n",
    "                  F29_c_538, f29_c_509 as qty_nc, f29_c_510 as monto_nc,\\\n",
    "                  F29_c_537 as F29_c_537, \\\n",
    "                  coalesce(F29_c_520,0) +coalesce(F29_762,0)+coalesce(F29_766,0)+coalesce(F29_c_525,0)+coalesce(F29_c_504,0) - \\\n",
    "                  coalesce(F29_c_528,0) + coalesce(F29_c_532,0)+coalesce(F29_c_535,0) + coalesce(F29_c_553,0) as monto_neto_re,\\\n",
    "                  coalesce(F29_725,0)+coalesce(F29_c_704,0)+\\\n",
    "                  coalesce(F29_c_160,0)+coalesce(F29_C_126,0)+coalesce(F29_C_572,0)+\\\n",
    "                  coalesce(F29_768,0)+coalesce(F29_767,0) as monto_cr_especial,\\\n",
    "                  coalesce(F29_c_504,0) as F29_c_504\\\n",
    "           from dw.dw_trn_f29_e as t1\\\n",
    "           inner join tmp_f29_unico as t2 on t1.F29_HFRM_FOLIO_vo = t2.max_folio\\\n",
    "           where left(f29_agno_mes_tributario_vo,6) in ({Periodo}) \\\n",
    "          and  TIVA_COD_VALIDEZ in( 1,3) \\\n",
    "          and  F29_c_537 > 0\")\n",
    "\n",
    "df.write.mode('overwrite').format(\"parquet\").save(\"abfs://data@datalakesii.dfs.core.windows.net/DatosOrigen/lr-629/iva_credito/intermedia/f29_0\")\n"
   ]
  },
  {
   "cell_type": "code",
   "execution_count": 16,
   "id": "bfe53c18-2eb3-4cdf-bfd5-30b1a32775a1",
   "metadata": {
    "tags": []
   },
   "outputs": [],
   "source": [
    "#tmp_f29_1: F29 del periodo\n",
    "spark.read.parquet(\"abfs://data@datalakesii.dfs.core.windows.net/DatosOrigen/lr-629/iva_credito/intermedia/f29_0\")\\\n",
    "     .registerTempTable('tmp_f29_0')\n"
   ]
  },
  {
   "cell_type": "code",
   "execution_count": 17,
   "id": "7da61cab-e507-40ae-8f6a-e95d100cb850",
   "metadata": {
    "tags": []
   },
   "outputs": [
    {
     "name": "stderr",
     "output_type": "stream",
     "text": [
      "                                                                                \r"
     ]
    }
   ],
   "source": [
    "#Contribuyentes  que presentan Observacione FM01\n",
    "df=spark.sql(f\" select cont_rut,PERI_AGNO_MES,INF3_OBSC_DISCRIMINANTE \\\n",
    "                           from DW.DW_TRN_IVAPRO_INF3_VIG_e as t2 \\\n",
    "                           where t2.peri_agno_mes in ({Periodo}) \\\n",
    "                           and t2.inf3_obsr_codigo = 'FM01'\\\n",
    "                           and INF3_FECHA_FIN_OBS_DW is null\\\n",
    "                           and  INF3_ESTADO_VIGENCIA='V'\")\n",
    "#df.registerTempTable('tmp_obsfm01') \n",
    "#202112:\n",
    "df.write.mode('overwrite').format(\"parquet\").save(\"abfs://data@datalakesii.dfs.core.windows.net/DatosOrigen/lr-629/iva_credito/intermedia/tmp_obsfm01\")\n"
   ]
  },
  {
   "cell_type": "code",
   "execution_count": 18,
   "id": "ac4b2a18-3e32-43ac-a816-9c28f23a6d66",
   "metadata": {
    "tags": []
   },
   "outputs": [],
   "source": [
    "#tmp_f29_1: F29 del periodo\n",
    "spark.read.parquet(\"abfs://data@datalakesii.dfs.core.windows.net/DatosOrigen/lr-629/iva_credito/intermedia/tmp_obsfm01\")\\\n",
    "     .registerTempTable('tmp_obsfm01_1')\n"
   ]
  },
  {
   "cell_type": "code",
   "execution_count": 19,
   "id": "59a5a739-461c-430e-a0ac-412228dba917",
   "metadata": {
    "tags": []
   },
   "outputs": [
    {
     "name": "stderr",
     "output_type": "stream",
     "text": [
      "                                                                                \r"
     ]
    }
   ],
   "source": [
    "df=spark.sql(\"select t1.cont_rut,\\\n",
    "                  monto_fact, qty_fact, F29_c_519, \\\n",
    "                  F29_c_520,  periodo,\\\n",
    "                  fact_re_sup, fact_re_const, fact_re_act, nc_re,\\\n",
    "                  monto_fact_re,  \\\n",
    "                  F29_c_538, qty_nc, monto_nc,\\\n",
    "                  F29_c_537, \\\n",
    "                  monto_neto_re,\\\n",
    "                  monto_cr_especial,\\\n",
    "                  t1.F29_c_504 as F29_c_504_orig,\\\n",
    "                      case when coalesce(t1.F29_c_504,0) -coalesce(INF3_OBSC_DISCRIMINANTE,0) < 0 then 0 \\\n",
    "                           else coalesce(t1.F29_c_504,0) -coalesce(INF3_OBSC_DISCRIMINANTE,0) end as F29_c_504,\\\n",
    "                      case when coalesce(t1.F29_c_504,0) -coalesce(INF3_OBSC_DISCRIMINANTE,0) < 0 then coalesce(t1.F29_c_504,0) \\\n",
    "                           else coalesce(INF3_OBSC_DISCRIMINANTE,0) end as fm01\\\n",
    "              from tmp_f29_0 as t1 \\\n",
    "              left join tmp_obsfm01_1 as t2 on t1.cont_rut = t2.cont_rut\")\n",
    "\n",
    "df.write.mode('overwrite').format(\"parquet\").save(\"abfs://data@datalakesii.dfs.core.windows.net/DatosOrigen/lr-629/iva_credito/intermedia/f29_1\")\n"
   ]
  },
  {
   "cell_type": "code",
   "execution_count": 20,
   "id": "50e9610f-9f30-4332-84bf-68c5db743b23",
   "metadata": {
    "tags": []
   },
   "outputs": [],
   "source": [
    "#tmp_f29_1: F29 del periodo\n",
    "spark.read.parquet(\"abfs://data@datalakesii.dfs.core.windows.net/DatosOrigen/lr-629/iva_credito/intermedia/f29_1\")\\\n",
    "     .registerTempTable('tmp_f29_1')\n"
   ]
  },
  {
   "cell_type": "code",
   "execution_count": 21,
   "id": "32aaec4c-dad1-4937-a917-53f08c272e49",
   "metadata": {
    "tags": []
   },
   "outputs": [],
   "source": [
    "if exists_hist==1:\n",
    "    spark.read.parquet(\"abfs://data@datalakesii.dfs.core.windows.net/DatosOrigen/lr-629/iva_credito/intermedia/remanente_ant\")\\\n",
    "     .registerTempTable('tmp_remanente_ant')\n"
   ]
  },
  {
   "cell_type": "code",
   "execution_count": 22,
   "id": "c4838a2f-6921-4bfb-bb13-24ed45c0edd6",
   "metadata": {
    "tags": []
   },
   "outputs": [
    {
     "name": "stderr",
     "output_type": "stream",
     "text": [
      "                                                                                \r"
     ]
    }
   ],
   "source": [
    "if exists_hist==1:\n",
    "    # Resultados del perodo antrior\n",
    "    df=spark.sql(f\"select dcv_ptributario as periodo_ant, receptor,{Periodo} as periodo,\\\n",
    "                      total_cont_an as total_cont_an_ant,\\\n",
    "                      case when coalesce(prop_total_cont_an,0) < 0 then 0 else  coalesce(prop_total_cont_an,0) end as prop_total_cont_an_ant, \\\n",
    "                      t2.f29_77_ant,\\\n",
    "                      F29_c_504_orig,\\\n",
    "                      F29_c_504,\\\n",
    "                      fm01,\\\n",
    "                      round(case when coalesce(prop_total_cont_an,0) < 0 then 0 else  coalesce(prop_total_cont_an,0) end * coalesce(t3.F29_c_504,0),4) as prop_remanente_cont\\\n",
    "               from tmp_historico as t1\\\n",
    "               left join tmp_f29_ant as t2 on t1.receptor = t2.cont_rut\\\n",
    "               left join tmp_f29_1 as t3 on t1.receptor = t3.cont_rut\\\n",
    "               where dcv_ptributario = {Periodo_Ant}\")\n",
    "\n",
    "    df.write.mode('overwrite').format(\"parquet\").save(\"abfs://data@datalakesii.dfs.core.windows.net/DatosOrigen/lr-629/iva_credito/intermedia/remanente_ant\")\n",
    "\n",
    "if exists_hist==0:\n",
    "    # Resultados del perodo antrior\n",
    "    df=spark.sql(f\"select {Periodo_Ant} as periodo_ant, t2.cont_rut as receptor,{Periodo} as periodo,\\\n",
    "                      0 as total_cont_an_ant,\\\n",
    "                      0 as prop_total_cont_an_ant, \\\n",
    "                      t2.f29_77_ant,\\\n",
    "                      F29_c_504_orig,\\\n",
    "                      F29_c_504,\\\n",
    "                      fm01,\\\n",
    "                      0 as prop_remanente_cont\\\n",
    "               from tmp_f29_1 as t1\\\n",
    "               left join tmp_f29_ant as t2 on t1.cont_rut = t2.cont_rut\\\n",
    "               where 1=1\")\n",
    "\n",
    "    df.write.mode('overwrite').format(\"parquet\").save(\"abfs://data@datalakesii.dfs.core.windows.net/DatosOrigen/lr-629/iva_credito/intermedia/remanente_ant\")\n",
    "\n",
    "    spark.read.parquet(\"abfs://data@datalakesii.dfs.core.windows.net/DatosOrigen/lr-629/iva_credito/intermedia/remanente_ant\")\\\n",
    "     .registerTempTable('tmp_remanente_ant')\n",
    "#df.registerTempTable(\"tmp_remanente_ant\")"
   ]
  },
  {
   "cell_type": "code",
   "execution_count": 23,
   "id": "2fc5b975-d5ea-4eb7-b52f-0a0e87bb38a3",
   "metadata": {
    "tags": []
   },
   "outputs": [],
   "source": [
    "# spark.read.parquet(\"abfs://data@datalakesii.dfs.core.windows.net/DatosOrigen/lr-629/iva_credito/intermedia/remanente_ant\").registerTempTable('tmp_remanente_ant')\n",
    "# spark.sql(\"select * from tmp_remanente_ant limit 20\").show()"
   ]
  },
  {
   "cell_type": "code",
   "execution_count": 24,
   "id": "24f95a06-aea3-4df3-b827-753280abee43",
   "metadata": {
    "tags": []
   },
   "outputs": [],
   "source": [
    "# df=spark.sql(\"select dcv_ptributario, receptor,total_cont_an,prop_total_cont_an,\\\n",
    "#                      prop_total_cont_an \\\n",
    "#               from tmp_historico_e limit 10\")\n",
    "# pd=df.toPandas()\n",
    "\n",
    "#exists_hist\n"
   ]
  },
  {
   "cell_type": "code",
   "execution_count": 25,
   "id": "d4f1a39f-6c47-4aae-a567-8b47f7dcb874",
   "metadata": {
    "tags": []
   },
   "outputs": [],
   "source": [
    "#Paso 2\n",
    "# Documentos de RCV\n",
    "df=spark.sql(f\"select dhdr_codigo, dcv_ptributario,det_tipo_doc,dcv_rut_emisor_e,det_rut_doc_e,tipo_transaccion,dcv_operacion,\\\n",
    "                    det_mnt_iva\\\n",
    "           from dwbgdata.dcv_generic_det_consolidado_sas\\\n",
    "           where dcv_ptributario in ({Periodo})\\\n",
    "           and   tipo_transaccion in(1,2,3,4,5,6) \\\n",
    "           and   det_tipo_doc IN (30, 33, 55, 56, 60, 61)\\\n",
    "           and   dcv_operacion = 'COMPRA'\")\n",
    "\n",
    "df.registerTempTable('tmp_cv')\n",
    "#39.903.589\n",
    "#39.740.811"
   ]
  },
  {
   "cell_type": "code",
   "execution_count": 26,
   "id": "53ec808f-dafa-41f1-b574-0d0f147d6563",
   "metadata": {
    "tags": []
   },
   "outputs": [],
   "source": [
    "#spark.read.parquet(\"abfs://data@datalakesii.dfs.core.windows.net/DatosOrigen/HADOOP/DTE/dcv_gen_det_consol\").registerTempTable('tmp_cv')"
   ]
  },
  {
   "cell_type": "code",
   "execution_count": 27,
   "id": "0dfadf1f-e707-40e8-ac39-2665d9a8a0a9",
   "metadata": {
    "tags": []
   },
   "outputs": [
    {
     "name": "stdout",
     "output_type": "stream",
     "text": [
      "tmp_docto ok\n"
     ]
    }
   ],
   "source": [
    "\n",
    "# Paso 2a\n",
    "# temporal de documentos de compra.\n",
    "df=spark.sql(f\"select t2.dhdr_codigo, t2.dcv_ptributario, \\\n",
    "                  case when t2.det_tipo_doc IN (29, 30, 33, 45, 46, 55, 56) then t2.det_mnt_iva else 0 end as iva_fact,\\\n",
    "                  case when t2.det_tipo_doc in(60, 61) then t2.det_mnt_iva else 0 end as iva_nc,\\\n",
    "                  case when t2.det_tipo_doc IN (29, 30, 33, 45, 46, 55, 56) then 1 else 0 end as es_fact,\\\n",
    "                  case when t2.det_tipo_doc in(60, 61) then 1 else 0 end as es_nc,\\\n",
    "                  t2.dcv_rut_emisor_e as receptor,t2.det_tipo_doc, t2.det_rut_doc_e, \\\n",
    "                  case when t2.det_tipo_doc in(60, 61) then t2.det_mnt_iva * -1 else t2.det_mnt_iva end as monto_iva,dcv_rut_emisor_e\\\n",
    "           from tmp_cv as t2 \\\n",
    "           where t2.dcv_ptributario in ({Periodo})\\\n",
    "           and   t2.tipo_transaccion in(1,2,3,4,5,6) \\\n",
    "           and   det_tipo_doc IN (30, 33, 55, 56, 60, 61)\\\n",
    "           and   t2.dcv_operacion = 'COMPRA'\")\n",
    "\n",
    "df.registerTempTable('tmp_docto')\n",
    "print(\"tmp_docto ok\")\n",
    "#34.955.891\n",
    "#39.903.589\n",
    "#39.740.811"
   ]
  },
  {
   "cell_type": "code",
   "execution_count": 28,
   "id": "2120c63b-142a-464c-b495-3814b651619c",
   "metadata": {
    "tags": []
   },
   "outputs": [
    {
     "name": "stderr",
     "output_type": "stream",
     "text": [
      "                                                                                \r"
     ]
    }
   ],
   "source": [
    "# Paso 2c (Antes se debe ejecutar Paso 2)\n",
    "# temporal de declaración de documentos\n",
    "# tipo de documento declarado= 33:Factura ; 61: Nota de Crédito.\n",
    "df=spark.sql(\"select det_rut_doc_e,\\\n",
    "                  sum(iva_fact) as iva_fact,\\\n",
    "                  sum(iva_nc) as iva_nc,\\\n",
    "                  receptor,\\\n",
    "                  dcv_ptributario,\\\n",
    "                  count(*) as qty_docto,\\\n",
    "                  sum(es_fact) as qty_factura,\\\n",
    "                  sum(es_nc) as qty_nc,\\\n",
    "                    sum(coalesce(iva_fact,0)) - sum(coalesce(iva_nc,0)) as iva_neto1, \\\n",
    "                    sum(coalesce(monto_iva,0)) as iva_neto_cv1,\\\n",
    "                    dcv_rut_emisor_e,\\\n",
    "                    case when length(t2.cont_rut)>1  then 1 else 0 end as emis_declara_f29,\\\n",
    "                    case when length(t3.cont_rut) > 1 then 1 else 0 end as rece_declara_f29\\\n",
    "           from tmp_docto as t1\\\n",
    "           left join tmp_f29_1 as t2 on t1.det_rut_doc_e = t2.cont_rut and t1.dcv_ptributario = t2.periodo\\\n",
    "           left join tmp_f29_1 as t3 on t1.receptor = t3.cont_rut and t1.dcv_ptributario = t3.periodo\\\n",
    "           where 1=1\\\n",
    "           group by det_rut_doc_e,\\\n",
    "                  receptor,dcv_ptributario,dcv_rut_emisor_e,t2.cont_rut,t3.cont_rut\")\n",
    "\n",
    "\n",
    "\n",
    "\n",
    "df.write.mode('overwrite').format(\"parquet\").save(\"abfs://data@datalakesii.dfs.core.windows.net/DatosOrigen/lr-629/iva_credito/intermedia/tmp_res_docto01\")\n",
    "\n",
    "#202112: 13.497.720\n",
    "#        14.687.488\n",
    "#2021: 173.021.529"
   ]
  },
  {
   "cell_type": "code",
   "execution_count": 29,
   "id": "3c0768ea-d5dc-4150-ae75-3228c3db5f7a",
   "metadata": {
    "tags": []
   },
   "outputs": [],
   "source": [
    "spark.read.parquet(\"abfs://data@datalakesii.dfs.core.windows.net/DatosOrigen/lr-629/iva_credito/intermedia/tmp_res_docto01\")\\\n",
    "     .registerTempTable('tmp_res_docto01')\n"
   ]
  },
  {
   "cell_type": "code",
   "execution_count": 30,
   "id": "5ed01001-0d7b-40c0-9766-0aad093e4a07",
   "metadata": {
    "tags": []
   },
   "outputs": [
    {
     "name": "stdout",
     "output_type": "stream",
     "text": [
      "tmp_res_docto0 ok\n"
     ]
    }
   ],
   "source": [
    "df=spark.sql(\"select det_rut_doc_e,iva_fact,iva_nc,\\\n",
    "                receptor,dcv_ptributario,qty_docto,\\\n",
    "                qty_factura,qty_nc,\\\n",
    "                case when iva_neto1 < 0 then 0 else iva_neto1 end as iva_neto,\\\n",
    "                case when iva_neto_cv1 < 0 then 0 else iva_neto_cv1 end as iva_neto_cv,\\\n",
    "                dcv_rut_emisor_e,emis_declara_f29,rece_declara_f29\\\n",
    "            from tmp_res_docto01\")\n",
    "\n",
    "df.registerTempTable('tmp_res_docto0')\n",
    "\n",
    "print(\"tmp_res_docto0 ok\")\n",
    "          "
   ]
  },
  {
   "cell_type": "code",
   "execution_count": 31,
   "id": "8882d536-7066-4759-be28-8eeddf450c59",
   "metadata": {
    "tags": []
   },
   "outputs": [],
   "source": [
    "#spark.sql(\"select * from tmp_res_docto0 where dcv_rut_emisor_e = 'lnmGCScjrf/x9Ief7uzgAQ=='\").show()\n",
    "\n",
    "# df=spark.sql(\"select * from tmp_f29_1 where cont_rut = 'lnmGCScjrf/x9Ief7uzgAQ=='\")\n",
    "# pd=df.toPandas()\n",
    "# pd"
   ]
  },
  {
   "cell_type": "code",
   "execution_count": 32,
   "id": "532c9219-5440-4355-99c2-9c9df81ec764",
   "metadata": {
    "tags": []
   },
   "outputs": [
    {
     "name": "stderr",
     "output_type": "stream",
     "text": [
      "                                                                                \r"
     ]
    }
   ],
   "source": [
    "df=spark.sql(\"select *, 'f29' as tipo \\\n",
    "           from tmp_f29_1\\\n",
    "           union\\\n",
    "           select receptor, 0,0,0,0,dcv_ptributario,0,0,0,sum(iva_nc),sum(iva_fact),\\\n",
    "                 0,0,0,sum(iva_neto),sum(iva_neto),0,0,'rcv',0,0\\\n",
    "           from tmp_res_docto0 as t1\\\n",
    "           where not exists(select *\\\n",
    "                            from   tmp_f29_1 as t2\\\n",
    "                            where  t2.cont_rut = t1.dcv_rut_emisor_e\\\n",
    "                            and    t2.periodo = t1.dcv_ptributario )\\\n",
    "           group by receptor,dcv_ptributario \")\n",
    "\n",
    "#df.registerTempTable('tmp_f29_0')\n",
    "df.write.mode('overwrite').format(\"parquet\").save(\"abfs://data@datalakesii.dfs.core.windows.net/DatosOrigen/lr-629/iva_credito/intermedia/f29_0\")\n"
   ]
  },
  {
   "cell_type": "code",
   "execution_count": 33,
   "id": "015ed4ab-fd8f-44db-ba9f-ada3e377b6a1",
   "metadata": {
    "tags": []
   },
   "outputs": [],
   "source": [
    "spark.read.parquet(\"abfs://data@datalakesii.dfs.core.windows.net/DatosOrigen/lr-629/iva_credito/intermedia/f29_0\")\\\n",
    "     .registerTempTable('tmp_f29_0')\n"
   ]
  },
  {
   "cell_type": "code",
   "execution_count": 34,
   "id": "85a29fe1-0b02-4a6d-9ff7-af2a9f7e9cfb",
   "metadata": {
    "tags": []
   },
   "outputs": [
    {
     "name": "stderr",
     "output_type": "stream",
     "text": [
      "                                                                                \r"
     ]
    }
   ],
   "source": [
    "df=spark.sql(\"select cont_rut, monto_fact,qty_fact,F29_c_519,\\\n",
    "                    F29_c_520,periodo,fact_re_sup,fact_re_const,fact_re_act,\\\n",
    "                    nc_re,monto_fact_re,  F29_c_538,qty_nc,\\\n",
    "                    monto_nc,F29_c_537,\\\n",
    "                    case when monto_neto_re < 0 then 0 else monto_neto_re end as monto_neto_re,\\\n",
    "                    monto_cr_especial,F29_c_504,tipo\\\n",
    "              from tmp_f29_0\")\n",
    "\n",
    "#df.registerTempTable('tmp_f29')\n",
    "\n",
    "df.write.mode('overwrite').format(\"parquet\").save(\"abfs://data@datalakesii.dfs.core.windows.net/DatosOrigen/lr-629/iva_credito/intermedia/f29\")\n",
    "\n",
    "#4.284.183\n",
    "#4.284.173"
   ]
  },
  {
   "cell_type": "code",
   "execution_count": 35,
   "id": "415782c5-c8bb-4865-90e3-ba9cafa65f5f",
   "metadata": {
    "tags": []
   },
   "outputs": [
    {
     "name": "stdout",
     "output_type": "stream",
     "text": [
      "tmp_f29 ok\n"
     ]
    }
   ],
   "source": [
    "spark.read.parquet(\"abfs://data@datalakesii.dfs.core.windows.net/DatosOrigen/lr-629/iva_credito/intermedia/f29\").registerTempTable('tmp_f29')\n",
    "print(\"tmp_f29 ok\")"
   ]
  },
  {
   "cell_type": "code",
   "execution_count": 36,
   "id": "55610ae2-10a5-45ef-80b7-bb38b831cbe5",
   "metadata": {
    "tags": []
   },
   "outputs": [],
   "source": [
    "# Paso 3\n",
    "# Extrae documentos de los RUT con documentos electronicos que no presentan declaración en F29\n",
    "# Falta agregar condición que considera los contribuyentes que presentan observación W01\n",
    "df=spark.sql(\"select det_rut_doc_e, dcv_ptributario,receptor,\\\n",
    "                     sum(iva_fact) as iva_fact,\\\n",
    "                     sum(iva_nc) as iva_nc, sum(qty_docto) as qty_docto,sum(iva_neto) as iva_neto \\\n",
    "           from   tmp_res_docto0 as t1\\\n",
    "           where  not exists(select * \\\n",
    "                            from tmp_f29 as t2 \\\n",
    "                            where tipo = 'f29'\\\n",
    "                            and   t2.CONT_RUT = t1.det_rut_doc_e \\\n",
    "                            and   t2.periodo = t1.dcv_ptributario)\\\n",
    "            group by  det_rut_doc_e, dcv_ptributario,receptor\")\n",
    "\n",
    "df.registerTempTable('tmp_emi_sinf29')\n",
    "#212112: 112.927\n",
    "#2021: 1.515.404"
   ]
  },
  {
   "cell_type": "code",
   "execution_count": 37,
   "id": "256b4d00-359f-4311-a2a3-42311a8b135f",
   "metadata": {
    "tags": []
   },
   "outputs": [
    {
     "name": "stderr",
     "output_type": "stream",
     "text": [
      "                                                                                \r"
     ]
    },
    {
     "name": "stdout",
     "output_type": "stream",
     "text": [
      "+--------------------+---------------+--------------------+\n",
      "|       det_rut_doc_e|dcv_ptributario|       det_rut_doc_e|\n",
      "+--------------------+---------------+--------------------+\n",
      "|1iYjiy0aM+c2MKvPH...|         202301|1iYjiy0aM+c2MKvPH...|\n",
      "|1iYjiy0aM+c2MKvPH...|         202301|1iYjiy0aM+c2MKvPH...|\n",
      "|1iYjiy0aM+c2MKvPH...|         202301|1iYjiy0aM+c2MKvPH...|\n",
      "|huoACB11ybPdKaqeo...|         202301|huoACB11ybPdKaqeo...|\n",
      "|mHsmK5sMB0N2xHTOu...|         202301|mHsmK5sMB0N2xHTOu...|\n",
      "|mHsmK5sMB0N2xHTOu...|         202301|mHsmK5sMB0N2xHTOu...|\n",
      "|Kyrw+VmxTkA7dfzAQ...|         202301|Kyrw+VmxTkA7dfzAQ...|\n",
      "|5UbTkxYNDNTqB3iXR...|         202301|5UbTkxYNDNTqB3iXR...|\n",
      "|5UbTkxYNDNTqB3iXR...|         202301|5UbTkxYNDNTqB3iXR...|\n",
      "|5UbTkxYNDNTqB3iXR...|         202301|5UbTkxYNDNTqB3iXR...|\n",
      "|UbVGFW9cms0MezIeV...|         202301|UbVGFW9cms0MezIeV...|\n",
      "|EXebngbxSyEKjm/3b...|         202301|EXebngbxSyEKjm/3b...|\n",
      "|EXebngbxSyEKjm/3b...|         202301|EXebngbxSyEKjm/3b...|\n",
      "|ag+yy5Z3zECHe6aXC...|         202301|ag+yy5Z3zECHe6aXC...|\n",
      "|2vofz4Lm0OfhCTHwF...|         202301|2vofz4Lm0OfhCTHwF...|\n",
      "|2vofz4Lm0OfhCTHwF...|         202301|2vofz4Lm0OfhCTHwF...|\n",
      "|NZlqBM+PNbuXqhyls...|         202301|NZlqBM+PNbuXqhyls...|\n",
      "|YCnYttwhfavA7hb5M...|         202301|YCnYttwhfavA7hb5M...|\n",
      "|8plgKtnShK9xKU3nW...|         202301|8plgKtnShK9xKU3nW...|\n",
      "|LHaBCjt2C4XPQiD22...|         202301|LHaBCjt2C4XPQiD22...|\n",
      "+--------------------+---------------+--------------------+\n",
      "only showing top 20 rows\n",
      "\n"
     ]
    },
    {
     "name": "stderr",
     "output_type": "stream",
     "text": [
      "                                                                                \r"
     ]
    },
    {
     "data": {
      "text/plain": [
       "1585"
      ]
     },
     "execution_count": 37,
     "metadata": {},
     "output_type": "execute_result"
    }
   ],
   "source": [
    "#PASO INTERMEDIO: CONTRIBUYENTES QUE EMITEN DOCUMENTOS TIPO 30 EN EL PERIODO Y NO DEBIESEN COMO FUENTE DE CONTAMINACION\n",
    "\n",
    "# Documentos de RCV 33\n",
    "df_aux=spark.sql(f\"select det_rut_doc_e, dcv_ptributario,det_rut_doc_e from dwbgdata.dcv_generic_det_consolidado_sas\\\n",
    "           where   det_tipo_doc IN (30)\\\n",
    "           and   dcv_ptributario={Periodo}\\\n",
    "           and   dcv_operacion = 'COMPRA'\")\n",
    "\n",
    "# Ejecutar la segunda consulta para obtener los RUT que queremos excluir\n",
    "df_excluir = spark.sql(\"\"\"\n",
    "    SELECT DISTINCT cont_rut\n",
    "    FROM dw.dw_trn_riac_atributo_contrib_e\n",
    "    WHERE tatr_codigo = 'POFE' AND atrc_fecha_termino IS NULL\n",
    "\"\"\")\n",
    "\n",
    "# Hacer un join anti para excluir los RUT que están en df_excluir\n",
    "df_resultado = df_aux.join(df_excluir, df_aux.det_rut_doc_e== df_excluir.cont_rut, \"left_anti\")\n",
    "df_resultado.show()               \n",
    "df_resultado.registerTempTable('tmp_doc30') \n",
    "                 \n",
    "# Seleccionar solo los valores únicos de dhdr_rut_emisor\n",
    "df_rut_unicos = df_resultado.select(\"det_rut_doc_e\").distinct()\n",
    "\n",
    "# Contar el número de valores únicos de dhdr_rut_emisor\n",
    "count_rut_unicos = df_rut_unicos.count()\n",
    "count_rut_unicos"
   ]
  },
  {
   "cell_type": "code",
   "execution_count": 38,
   "id": "2b5f2c4f-2607-4615-b7dc-14381085011a",
   "metadata": {
    "tags": []
   },
   "outputs": [],
   "source": [
    "#Paso 4\n",
    "#Contribuyentes  que presentan Observacione W08\n",
    "df=spark.sql(f\" select cont_rut,PERI_AGNO_MES,INF3_OBSC_DISCRIMINANTE \\\n",
    "                           from DW.DW_TRN_IVAPRO_INF3_VIG_e as t2 \\\n",
    "                           where t2.peri_agno_mes in ({Periodo}) \\\n",
    "                           and t2.inf3_obsr_codigo = 'W08'\\\n",
    "                           and INF3_FECHA_FIN_OBS_DW is null\\\n",
    "                           and  INF3_ESTADO_VIGENCIA='V'\")\n",
    "df.registerTempTable('tmp_obsW08') \n",
    "#202112:"
   ]
  },
  {
   "cell_type": "code",
   "execution_count": 39,
   "id": "f5d8ef11-159a-47fc-9d9a-a7f988499e07",
   "metadata": {
    "tags": []
   },
   "outputs": [
    {
     "name": "stdout",
     "output_type": "stream",
     "text": [
      "tmp_alerta ok\n"
     ]
    }
   ],
   "source": [
    "#Paso 5\n",
    "#Contribuyentes que presentan Alertas\n",
    "df=spark.sql(\"select distinct t1.det_rut_doc_e, 'ALERTA' as inf3_obsr_codigo \\\n",
    "             from tmp_res_docto0 as t1 \\\n",
    "             where exists(SELECT *\\\n",
    "                          FROM DW.DW_TRN_ALERTAS_E as t2\\\n",
    "                          WHERE t1.det_rut_doc_e = t2.cont_rut\\\n",
    "                          AND   t2.aler_usuario_desactiv_vo is null \\\n",
    "                          AND t2.aler_folio_desbloq_vo IS NULL \\\n",
    "                          AND t2.aler_cod_tipo_alerta_vo IN ('4110','4111','4112'))\")\n",
    "\n",
    "df.registerTempTable('tmp_alerta') \n",
    "print(\"tmp_alerta ok\")\n",
    "#2.276"
   ]
  },
  {
   "cell_type": "code",
   "execution_count": 40,
   "id": "91eb9faa-9425-4eea-b23e-ef4e58beb22f",
   "metadata": {
    "tags": []
   },
   "outputs": [],
   "source": [
    "#Paso 6\n",
    "#\n",
    "df=spark.sql(f\"select cont_rut, monto_cr_especial, left(periodo,6) as periodo\\\n",
    "          from tmp_f29\\\n",
    "          where 1=1\\\n",
    "          and   left(periodo,6) in ({Periodo})\\\n",
    "          and  monto_cr_especial > 0\")\n",
    "\n",
    "df.registerTempTable('tmp_credito_especial')\n",
    "#408.091"
   ]
  },
  {
   "cell_type": "code",
   "execution_count": 41,
   "id": "978f80b8-359b-4487-8978-7a1c4fd73f3a",
   "metadata": {
    "tags": []
   },
   "outputs": [
    {
     "name": "stderr",
     "output_type": "stream",
     "text": [
      "                                                                                \r"
     ]
    }
   ],
   "source": [
    "#Agrega en tmp_res_docto nodos fantasmas de:\n",
    "#   Crédito Especial\n",
    "#   W08\n",
    "#   Remanente\n",
    "df=spark.sql(\"select *,'NORMAL' as tipo_nodo \\\n",
    "           from tmp_res_docto0\\\n",
    "           union\\\n",
    "           select cont_rut, 0,0,cont_rut,periodo,0,0,0,sum(monto_cr_especial),0,cont_rut,1,1,'FANTASMA CE'\\\n",
    "           from tmp_credito_especial\\\n",
    "           group by cont_rut, periodo\\\n",
    "           union\\\n",
    "           select cont_rut, 0,0,cont_rut,PERI_AGNO_MES,0,0,0,sum(INF3_OBSC_DISCRIMINANTE),0,cont_rut,1,1,'FANTASMA W08'\\\n",
    "           from tmp_obsW08\\\n",
    "           group by cont_rut, PERI_AGNO_MES\\\n",
    "           union\\\n",
    "           select receptor, 0,0,receptor,periodo,0,0,0,prop_remanente_cont,0,receptor,1,1,'FANTASMA REM'\\\n",
    "           from  tmp_remanente_ant\\\n",
    "           union\\\n",
    "           select cont_rut, 0,0,cont_rut,PERI_AGNO_MES,0,0,0,sum(INF3_OBSC_DISCRIMINANTE),0,cont_rut,1,1,'FANTASMA FM01'\\\n",
    "           from tmp_obsfm01_1\\\n",
    "           group by cont_rut, PERI_AGNO_MES\")\n",
    "\n",
    "#df.registerTempTable(\"tmp_res_docto\")\n",
    "\n",
    "#df.show()\n",
    "\n",
    "df.write.mode('overwrite').format(\"parquet\").save(\"abfs://data@datalakesii.dfs.core.windows.net/DatosOrigen/lr-629/iva_credito/intermedia/res_docto\")\n",
    "\n",
    "#15.095.576\n",
    "\n",
    "\n",
    "#FANTASMA|   408.088\n",
    "#  NORMAL|14.687.488"
   ]
  },
  {
   "cell_type": "code",
   "execution_count": 42,
   "id": "542fd9ba-a148-4a93-9eca-f02295f6e74b",
   "metadata": {
    "tags": []
   },
   "outputs": [
    {
     "name": "stdout",
     "output_type": "stream",
     "text": [
      "tmp_res_docto ok\n"
     ]
    }
   ],
   "source": [
    "spark.read.parquet(\"abfs://data@datalakesii.dfs.core.windows.net/DatosOrigen/lr-629/iva_credito/intermedia/res_docto\")\\\n",
    "     .registerTempTable('tmp_res_docto')\n",
    "print(\"tmp_res_docto ok\")"
   ]
  },
  {
   "cell_type": "code",
   "execution_count": 43,
   "id": "d0ed2443-36b5-4531-a970-d92608166597",
   "metadata": {
    "tags": []
   },
   "outputs": [],
   "source": [
    "#spark.sql(\"select count(*) from tmp_res_docto where tipo_nodo = 'FANTASMA FM01'\").show()\n",
    "#spark.sql(\"select count(*) from tmp_obsfm01\").show()"
   ]
  },
  {
   "cell_type": "code",
   "execution_count": 44,
   "id": "76a07e6a-a6d8-4d12-87e6-617b0bb36413",
   "metadata": {
    "tags": []
   },
   "outputs": [
    {
     "name": "stderr",
     "output_type": "stream",
     "text": [
      "                                                                                \r"
     ]
    }
   ],
   "source": [
    "# Paso 5\n",
    "# Tabla de Relación \n",
    "# Nivel 0\n",
    "df=spark.sql(\"select distinct det_rut_doc_e, receptor,\\\n",
    "                 iva_fact, iva_nc,dcv_ptributario, 0 as nivel, qty_docto,iva_neto,tipo_nodo,emis_declara_f29,rece_declara_f29\\\n",
    "           from tmp_res_docto\")\n",
    "\n",
    "#df.registerTempTable('tmp_relacion0')\n",
    "\n",
    "df.write.mode('overwrite').format(\"parquet\").save(\"abfs://data@datalakesii.dfs.core.windows.net/DatosOrigen/lr-629/iva_credito/intermedia/relacion0\")\n",
    "#202112: 15.969.588\n",
    "    #    15.095.576\n",
    "#2021: 173.021.529"
   ]
  },
  {
   "cell_type": "code",
   "execution_count": 45,
   "id": "7fed2b67-21ee-4711-9157-fac938d8c59d",
   "metadata": {
    "tags": []
   },
   "outputs": [
    {
     "name": "stdout",
     "output_type": "stream",
     "text": [
      "tmp_relacion0 ok\n"
     ]
    }
   ],
   "source": [
    "spark.read.parquet(\"abfs://data@datalakesii.dfs.core.windows.net/DatosOrigen/lr-629/iva_credito/intermedia/relacion0\").registerTempTable('tmp_relacion0')\n",
    "print(\"tmp_relacion0 ok\")"
   ]
  },
  {
   "cell_type": "code",
   "execution_count": 46,
   "id": "6dfe6ccc-3d4c-4859-8da8-8b84cbc09a49",
   "metadata": {
    "tags": []
   },
   "outputs": [
    {
     "name": "stderr",
     "output_type": "stream",
     "text": [
      "                                                                                ]]\r"
     ]
    },
    {
     "name": "stdout",
     "output_type": "stream",
     "text": [
      "tmp_arco1 ok\n"
     ]
    }
   ],
   "source": [
    "# Paso 5.1\n",
    "#DENTRO DEL MISMO PERIODO\n",
    "# Contribuyntes (receptores) que han comprado a (emisores) no declarantes de F29 o emisores que tienen observaciobes W01.\n",
    "# considera que los receptores tengan declaracion F29 en la parte de Crédito (520, 762,766,525,528)\n",
    "# PRIMER ARCO\n",
    "# fact_re_sup: 762, fact_re_const: 766, fact_re_act: 525, nc_re: 528\n",
    "\n",
    "\n",
    "# Agregar lógica de NETO = 0 cuando emis_declara_f29 = 0 and rece_declara_f29 = 0\n",
    "# a pesar de no tener decaración den F29 se corta la conectividad sólo cuando hay 2 no declarantes \n",
    "\n",
    "# ORIGEN:\n",
    "#1: NO DECLARA\n",
    "#2: ALERTA\n",
    "#3: CR ESPECIAL\n",
    "#4: OBSERVACION W08\n",
    "#5: IVA REMANENTE\n",
    "#6: OBSERVACION FM01\n",
    "#7: DECLARANTE EMISOR DE DOCUMENTO TIPO 30 EN PERIODO\n",
    "df = spark.sql(\"select distinct t1.det_rut_doc_e, receptor, \\\n",
    "                   t1.dcv_ptributario, \\\n",
    "                  case when iva_fact <= monto_fact_re then iva_fact else monto_fact_re end as iva_fact_contaminado, \\\n",
    "                  case when iva_nc <= nc_re then iva_nc else nc_re end as iva_nc_contaminado, iva_fact, iva_nc, nc_re, iva_neto, \\\n",
    "                  t1.qty_docto, monto_fact_re, t5.monto_neto_re, \\\n",
    "                  case when iva_fact <= monto_fact_re then iva_fact else monto_fact_re end - \\\n",
    "                  case when iva_nc <= nc_re then iva_nc else nc_re end as neto_ctdo, \\\n",
    "                  case when emis_declara_f29 = 0 and rece_declara_f29 = 0 then 0 \\\n",
    "                       when iva_neto >= 0 and iva_neto <= t5.monto_neto_re then iva_neto \\\n",
    "                       else t5.monto_neto_re end as iva_neto_contaminado, \\\n",
    "                  7 as origen, t5.tipo, emis_declara_f29, rece_declara_f29 \\\n",
    "           from tmp_relacion0 as t1 \\\n",
    "           inner join tmp_f29 as t5 on t1.receptor = t5.cont_rut and t1.dcv_ptributario = t5.periodo and tipo = 'f29' and (t5.F29_c_520 > 0 \\\n",
    "                         or t5.fact_re_sup > 0 \\\n",
    "                         or t5.fact_re_const > 0 \\\n",
    "                         or t5.fact_re_act > 0 \\\n",
    "                         or t5.nc_re > 0) \\\n",
    "           where (exists(select * \\\n",
    "                       from tmp_doc30 as t2 \\\n",
    "                        where t1.det_rut_doc_e = t2.det_rut_doc_e \\\n",
    "                        and   t1.dcv_ptributario=t2.dcv_ptributario) ) \\\n",
    "            union \\\n",
    "            select distinct t1.det_rut_doc_e, receptor, \\\n",
    "                   t1.dcv_ptributario, \\\n",
    "                  case when iva_fact <= monto_fact_re then iva_fact else monto_fact_re end as iva_fact_contaminado, \\\n",
    "                  case when iva_nc <= nc_re then iva_nc else nc_re end as iva_nc_contaminado, iva_fact, iva_nc, nc_re, iva_neto, \\\n",
    "                  t1.qty_docto, monto_fact_re, t5.monto_neto_re, \\\n",
    "                  case when iva_fact <= monto_fact_re then iva_fact else monto_fact_re end - \\\n",
    "                  case when iva_nc <= nc_re then iva_nc else nc_re end as neto_ctdo, \\\n",
    "                  case when emis_declara_f29 = 0 and rece_declara_f29 = 0 then 0 \\\n",
    "                       when iva_neto >= 0 and iva_neto <= t5.monto_neto_re then iva_neto \\\n",
    "                       else t5.monto_neto_re end as iva_neto_contaminado, \\\n",
    "                  1 as origen, t5.tipo, emis_declara_f29, rece_declara_f29 \\\n",
    "           from tmp_relacion0 as t1 \\\n",
    "           inner join tmp_f29 as t5 on t1.receptor = t5.cont_rut and t1.dcv_ptributario = t5.periodo and tipo = 'f29' and (t5.F29_c_520 > 0 \\\n",
    "                         or t5.fact_re_sup > 0 \\\n",
    "                         or t5.fact_re_const > 0 \\\n",
    "                         or t5.fact_re_act > 0 \\\n",
    "                         or t5.nc_re > 0) \\\n",
    "           where (exists(select * \\\n",
    "                       from tmp_emi_sinf29 as t2 \\\n",
    "                        where t1.det_rut_doc_e = t2.det_rut_doc_e \\\n",
    "                        and   t1.dcv_ptributario=t2.dcv_ptributario) ) \\\n",
    "            union \\\n",
    "            select distinct t1.det_rut_doc_e, receptor, \\\n",
    "                   t1.dcv_ptributario, \\\n",
    "                  case when iva_fact <= monto_fact_re then iva_fact else monto_fact_re end as iva_fact_contaminado, \\\n",
    "                  case when iva_nc <= nc_re then iva_nc else nc_re end as iva_nc_contaminado, iva_fact, iva_nc, nc_re, iva_neto, \\\n",
    "                  t1.qty_docto, monto_fact_re, t5.monto_neto_re, \\\n",
    "                  case when iva_fact <= monto_fact_re then iva_fact else monto_fact_re end - \\\n",
    "                  case when iva_nc <= nc_re then iva_nc else nc_re end as neto_ctdo, \\\n",
    "                  case when iva_neto >= 0 and iva_neto <= t5.monto_neto_re then iva_neto \\\n",
    "                       else t5.monto_neto_re end as iva_neto_contaminado, \\\n",
    "                  2 as origen, t5.tipo, emis_declara_f29, rece_declara_f29 \\\n",
    "           from tmp_relacion0 as t1 \\\n",
    "           inner join tmp_f29 as t5 on t1.receptor = t5.cont_rut and t1.dcv_ptributario = t5.periodo and tipo = 'f29' and (t5.F29_c_520 > 0 \\\n",
    "                         or t5.fact_re_sup > 0 \\\n",
    "                         or t5.fact_re_const > 0 \\\n",
    "                         or t5.fact_re_act > 0 \\\n",
    "                         or t5.nc_re > 0) \\\n",
    "           where (exists(select * \\\n",
    "                       from tmp_alerta as ta \\\n",
    "                        where t1.det_rut_doc_e = ta.det_rut_doc_e) ) \\\n",
    "            union \\\n",
    "            select distinct t1.det_rut_doc_e, receptor, \\\n",
    "                   t1.dcv_ptributario, \\\n",
    "                  case when iva_fact <= monto_fact_re then iva_fact else monto_fact_re end as iva_fact_contaminado, \\\n",
    "                  case when iva_nc <= nc_re then iva_nc else nc_re end as iva_nc_contaminado, iva_fact, iva_nc, nc_re, iva_neto, \\\n",
    "                  t1.qty_docto, monto_fact_re, t5.monto_neto_re, \\\n",
    "                  case when iva_fact <= monto_fact_re then iva_fact else monto_fact_re end - \\\n",
    "                  case when iva_nc <= nc_re then iva_nc else nc_re end as neto_ctdo, \\\n",
    "                  case when iva_neto >= 0 and iva_neto <= t5.monto_neto_re then iva_neto \\\n",
    "                       else t5.monto_neto_re end as iva_neto_contaminado, \\\n",
    "                  2 as origen, t5.tipo, emis_declara_f29, rece_declara_f29 \\\n",
    "           from tmp_relacion0 as t1 \\\n",
    "           inner join tmp_f29 as t5 on t1.receptor = t5.cont_rut and t1.dcv_ptributario = t5.periodo and tipo = 'rcv' \\\n",
    "           where (exists(select * \\\n",
    "                       from tmp_alerta as ta \\\n",
    "                        where t1.det_rut_doc_e = ta.det_rut_doc_e) ) \\\n",
    "            and not exists(select * \\\n",
    "                         from tmp_f29 as t3 \\\n",
    "                        where t1.receptor = t3.cont_rut \\\n",
    "                       and   t1.dcv_ptributario = t3.periodo \\\n",
    "                       and   t3.tipo = 'f29' \\\n",
    "                       and (t3.F29_c_520 > 0 \\\n",
    "                         or t3.fact_re_sup > 0 \\\n",
    "                         or t3.fact_re_const > 0 \\\n",
    "                         or t3.fact_re_act > 0 \\\n",
    "                         or t3.nc_re > 0)) \\\n",
    "            union \\\n",
    "            select distinct t1.det_rut_doc_e, receptor, \\\n",
    "                   t1.dcv_ptributario, \\\n",
    "                  case when iva_fact <= monto_fact_re then iva_fact else monto_fact_re end as iva_fact_contaminado, \\\n",
    "                  case when iva_nc <= nc_re then iva_nc else nc_re end as iva_nc_contaminado, iva_fact, iva_nc, nc_re, iva_neto, \\\n",
    "                  t1.qty_docto, monto_fact_re, t5.monto_neto_re, \\\n",
    "                  case when iva_fact <= monto_fact_re then iva_fact else monto_fact_re end - \\\n",
    "                  case when iva_nc <= nc_re then iva_nc else nc_re end as neto_ctdo, \\\n",
    "                  case when iva_neto >= 0 and iva_neto <= t5.monto_neto_re + t5.monto_cr_especial then iva_neto \\\n",
    "                       else t5.monto_neto_re + t5.monto_cr_especial end as iva_neto_contaminado, \\\n",
    "                  3 as origen, 'f29 CE', emis_declara_f29, rece_declara_f29 \\\n",
    "           from tmp_relacion0 as t1 \\\n",
    "           inner join tmp_f29 as t5 on t1.receptor = t5.cont_rut and t1.dcv_ptributario = t5.periodo and tipo = 'f29' \\\n",
    "           where t1.tipo_nodo = 'FANTASMA CE' \\\n",
    "           union \\\n",
    "           select distinct t1.det_rut_doc_e, receptor, \\\n",
    "                  t1.dcv_ptributario, \\\n",
    "                  case when iva_fact <= monto_fact_re then iva_fact else monto_fact_re end as iva_fact_contaminado, \\\n",
    "                  case when iva_nc <= nc_re then iva_nc else nc_re end as iva_nc_contaminado, iva_fact, iva_nc, nc_re, iva_neto, \\\n",
    "                  t1.qty_docto, monto_fact_re, t5.monto_neto_re, \\\n",
    "                  case when iva_fact <= monto_fact_re then iva_fact else monto_fact_re end - \\\n",
    "                  case when iva_nc <= nc_re then iva_nc else nc_re end as neto_ctdo, \\\n",
    "                  case when iva_neto >= 0 and iva_neto <= t5.monto_neto_re + t5.monto_cr_especial then iva_neto \\\n",
    "                       else t5.monto_neto_re + t5.monto_cr_especial end as iva_neto_contaminado, \\\n",
    "                  4 as origen, 'RCV CE', emis_declara_f29, rece_declara_f29 \\\n",
    "           from tmp_relacion0 as t1 \\\n",
    "           inner join tmp_f29 as t5 on t1.receptor = t5.cont_rut and t1.dcv_ptributario = t5.periodo and tipo = 'rcv' \\\n",
    "           where t1.tipo_nodo = 'FANTASMA CE' \\\n",
    "           \")\n",
    "\n",
    "           \n",
    "           #where (exists(select * \\\n",
    "           #            from tmp_credito_especial as t2 \\\n",
    "           #             where t1.det_rut_doc_e = t2.cont_rut\\\n",
    "           #             and   t1.receptor = t2.cont_rut\\\n",
    "           #             and   t1.dcv_ptributario=t2.periodo) )\")\n",
    "#            and (exists(select * \\\n",
    "#                       from tmp_credito_especial as t2 \\\n",
    "#                        where t1.receptor = t2.cont_rut \\\n",
    "#                        and   t1.dcv_ptributario=t2.periodo) )\")\n",
    "\n",
    "\n",
    "df.write.mode('overwrite').format(\"parquet\").save(\"abfs://data@datalakesii.dfs.core.windows.net/DatosOrigen/lr-629/iva_credito/intermedia/arco1\")\n",
    "\n",
    "#df.registerTempTable('tmp_arco1')\n",
    "\n",
    "# 202112:  86.669 sin considerar observación W01\n",
    "# 154.925\n",
    "# 592.433\n",
    "#10.185.303 agregando crédito especial. Sólo con crédito epecial son 9.983.302\n",
    "#7.209.824\n",
    "\n",
    "print(\"tmp_arco1 ok\")"
   ]
  },
  {
   "cell_type": "code",
   "execution_count": 47,
   "id": "d79670b3-81ef-44b2-a59e-07a38929ab02",
   "metadata": {
    "tags": []
   },
   "outputs": [],
   "source": [
    "spark.read.parquet(\"abfs://data@datalakesii.dfs.core.windows.net/DatosOrigen/lr-629/iva_credito/intermedia/arco1\").registerTempTable('tmp_arco1')"
   ]
  },
  {
   "cell_type": "code",
   "execution_count": 48,
   "id": "f63ff460-3514-4589-a9d3-6791c6c06fd9",
   "metadata": {
    "tags": []
   },
   "outputs": [],
   "source": [
    "# Paso 6\n",
    "# Resultado 1er Arco\n",
    "# Reune a todos los receprores del 1 arco que declararon compras en F29, totaliza lo comprado\n",
    "# para contrastarlo respecto de lo total declarado\n",
    "df=spark.sql(\"select t1.dcv_ptributario, receptor, \\\n",
    "                  case when sum(iva_fact_contaminado) <= max(t2.monto_fact_re) \\\n",
    "                       then sum(iva_fact_contaminado) \\\n",
    "                       else max(t2.monto_fact_re) end as iva_fact_cdo,\\\n",
    "                  max(t2.monto_fact_re) - case when sum(iva_fact_contaminado) <= max(t2.monto_fact_re) \\\n",
    "                                               then sum(iva_fact_contaminado) \\\n",
    "                                               else max(t2.monto_fact_re) end as remanente_iva_fact_re, \\\n",
    "                  case when sum(iva_nc_contaminado) <= max(t2.nc_re) \\\n",
    "                       then sum(iva_nc_contaminado) \\\n",
    "                       else max(t2.nc_re) end as iva_nc_cdo,\\\n",
    "                  max(t2.nc_re) - case when sum(iva_nc_contaminado) <= max(t2.nc_re) \\\n",
    "                       then sum(iva_nc_contaminado) \\\n",
    "                       else max(t2.nc_re) end as remanente_iva_nc_re, \\\n",
    "                   case when origen = 3 then sum(iva_neto_contaminado)\\\n",
    "                        when origen != 3 and sum(emis_declara_f29) = 0 and sum(rece_declara_f29) = 0 then 0 \\\n",
    "                        when origen != 3 and sum(iva_neto_contaminado) <= max(t2.monto_neto_re) then sum(iva_neto_contaminado) \\\n",
    "                        else max(t2.monto_neto_re) end as iva_neto_cdo,\\\n",
    "                  sum(qty_docto) as qty_docto,\\\n",
    "                  max(t2.monto_fact) as monto_fact_emi,\\\n",
    "                  max(t2.qty_fact) as qty_fact_emi,\\\n",
    "                  max(t2.monto_nc) as monto_nc_emi,\\\n",
    "                  max(t2.qty_nc) as qty_nc_emi,\\\n",
    "                  max(t2.F29_c_537) as c_537,\\\n",
    "                  max(t2.F29_c_520) as c_520,\\\n",
    "                  max(t2.monto_fact_re) as monto_fact_reci, \\\n",
    "                  max(t2.nc_re) as monto_nc_reci,\\\n",
    "                  max(t2.monto_neto_re)+max(t2.monto_cr_especial) as monto_neto_reci,\\\n",
    "                  t1.origen\\\n",
    "           from tmp_arco1 as t1 \\\n",
    "           inner join tmp_f29 as t2 on t1.receptor = t2.cont_rut and t1.dcv_ptributario = t2.periodo \\\n",
    "           where 1=1\\\n",
    "           group by  t1.dcv_ptributario,receptor, t1.origen\")\n",
    "\n",
    "df.registerTempTable('tmp_prepara_resultado')\n",
    "#202112: 71.745\n",
    "#2021: 4.180.038\n",
    "\n",
    "#934.973"
   ]
  },
  {
   "cell_type": "code",
   "execution_count": 49,
   "id": "1538d0e2-1167-4fe2-b6e0-b77f7635fcdf",
   "metadata": {
    "tags": []
   },
   "outputs": [
    {
     "name": "stderr",
     "output_type": "stream",
     "text": [
      "                                                                                \r"
     ]
    }
   ],
   "source": [
    "# Paso 7. Preparación de Archivo\n",
    "# Resultado Proporcional Primer Arco\n",
    "# Consultar si los montos de NC se restan de lo FACTURADO\n",
    "\n",
    "df=spark.sql(\"select dcv_ptributario,  receptor,\\\n",
    "                   monto_fact_reci as f29_fact_reci, monto_nc_reci as f29_nc_reci,\\\n",
    "                   monto_neto_reci as f29_neto_reci,\\\n",
    "                   case when iva_fact_cdo <= monto_fact_reci then iva_fact_cdo else monto_fact_reci end as iva_fact_cdo, \\\n",
    "                   case when iva_nc_cdo <= monto_nc_reci then iva_nc_cdo else monto_nc_reci end as iva_nc_cdo, \\\n",
    "                  round((coalesce(iva_fact_cdo,0)) / (coalesce(monto_fact_reci,0)),5) as porc_fact_ctdo_r, \\\n",
    "                  round((coalesce(iva_nc_cdo,0) ) / (coalesce(monto_nc_reci,0) ),5) as porc_nc_ctdo_r,c_537,1 as arco,\\\n",
    "                  round((coalesce(iva_neto_cdo,0) ) / (coalesce(monto_neto_reci,0) ),5) as porc_neto_ctdo_r,\\\n",
    "                   case when origen = 3 then iva_neto_cdo \\\n",
    "                        when origen != 3 and iva_neto_cdo <= monto_neto_reci then iva_neto_cdo else monto_neto_reci end as iva_neto_cdo,\\\n",
    "                   origen\\\n",
    "          from  tmp_prepara_resultado\")\n",
    "\n",
    "#df.registerTempTable('tmp_resultado_arco1')\n",
    "#202112 sin obs: 15.912\n",
    "#71.745\n",
    "\n",
    "#82.253 con  alerta\n",
    "\n",
    "df.write.mode('overwrite').format(\"parquet\").save(\"abfs://data@datalakesii.dfs.core.windows.net/DatosOrigen/lr-629/iva_credito/intermedia/resultado_arco1\")\n"
   ]
  },
  {
   "cell_type": "code",
   "execution_count": 50,
   "id": "2ad71a18-af53-426c-b3b3-d5b0b7d9ec82",
   "metadata": {
    "tags": []
   },
   "outputs": [],
   "source": [
    "spark.read.parquet(\"abfs://data@datalakesii.dfs.core.windows.net/DatosOrigen/lr-629/iva_credito/intermedia/resultado_arco1\").registerTempTable('tmp_resultado_arco1')"
   ]
  },
  {
   "cell_type": "code",
   "execution_count": 51,
   "id": "d8c4ceea-5c84-4c55-ad9d-dd3522e5e339",
   "metadata": {
    "tags": []
   },
   "outputs": [],
   "source": [
    "# Paso 8\n",
    "# Determinación del Arco2\n",
    "\n",
    "df=spark.sql(\"select distinct t1.dcv_ptributario, t1.det_rut_doc_e, t1.iva_fact as iva_fact_emisor, t1.iva_nc as iva_nc_emisor,\\\n",
    "                     t1.receptor, \\\n",
    "                     t2.iva_fact_cdo, t2.iva_nc_cdo,t2.iva_neto_cdo,\\\n",
    "                     round(t2.porc_fact_ctdo_r,5) as porc_fact_ctdo_r, \\\n",
    "                     round(t2.porc_nc_ctdo_r,5) as porc_nc_ctdo_r,\\\n",
    "                     round(iva_fact*t2.porc_fact_ctdo_r,1) as pro_iva_fact_contdo,\\\n",
    "                     round(iva_nc*t2.porc_fact_ctdo_r,1) as pro_iva_nc_contdo,\\\n",
    "                     round(t2.porc_neto_ctdo_r,5) as porc_neto_ctdo_r,\\\n",
    "                     round(iva_neto*t2.porc_neto_ctdo_r,1) as pro_iva_neto_contdo, \\\n",
    "                      t2.origen\\\n",
    "              from tmp_res_docto as t1 \\\n",
    "              inner join tmp_resultado_arco1 as t2 on t1.det_rut_doc_e = t2.receptor and t1.dcv_ptributario = t2.dcv_ptributario\\\n",
    "              where 0= 0\\\n",
    "              and   t1.det_rut_doc_e != t1.receptor\")\n",
    "\n",
    "df.registerTempTable('tmp_arco2')\n",
    "#202112: 8.501.900\n",
    "#202112: 14.478.381\n",
    "#9.179.867\n",
    "\n",
    "    #2021: 145.148.942\n",
    "    "
   ]
  },
  {
   "cell_type": "code",
   "execution_count": 52,
   "id": "c08453cb-faab-43c5-a171-1236352a5e98",
   "metadata": {
    "tags": []
   },
   "outputs": [
    {
     "name": "stderr",
     "output_type": "stream",
     "text": [
      "                                                                                \r"
     ]
    }
   ],
   "source": [
    "#Paso 9: Resultado Arco2\n",
    "df=spark.sql(\"select t1.dcv_ptributario, receptor, \\\n",
    "                  max(t2.monto_fact_re) as monto_fact_reci, \\\n",
    "                  max(t2.nc_re) as monto_nc_reci,\\\n",
    "                  max(t2.monto_neto_re)+max(t2.monto_cr_especial) as monto_neto_reci,\\\n",
    "                  case when sum(pro_iva_fact_contdo) <= max(t2.monto_fact_re) then sum(pro_iva_fact_contdo) else max(t2.monto_fact_re) end as iva_fact_cdo, \\\n",
    "                  case when sum(pro_iva_nc_contdo) <= max(t2.nc_re) then sum(pro_iva_nc_contdo) else max(t2.nc_re) end as iva_nc_cdo, \\\n",
    "                  case when sum(pro_iva_neto_contdo) <= max(t2.monto_neto_re) then sum(pro_iva_neto_contdo) else max(t2.monto_neto_re) end as iva_neto_cdo, \\\n",
    "                  case when sum(pro_iva_fact_contdo) <= max(t2.monto_fact_re) \\\n",
    "                       then round(sum(pro_iva_fact_contdo)/max(t2.monto_fact_re),5)\\\n",
    "                  else 1 end as prop_fact_cdo,\\\n",
    "                  case when sum(pro_iva_nc_contdo) <= max(t2.nc_re) \\\n",
    "                       then round(sum(pro_iva_nc_contdo)/max(t2.nc_re),5)\\\n",
    "                  else 1 end as prop_nc_cdo,\\\n",
    "                  case when sum(pro_iva_neto_contdo) <= max(t2.monto_neto_re) \\\n",
    "                       then round(sum(pro_iva_neto_contdo)/max(t2.monto_neto_re),5)\\\n",
    "                  else 1 end as prop_neto_cdo,\\\n",
    "                  max(t2.F29_c_537) as c_537,\\\n",
    "                  2 as arco,\\\n",
    "                  origen\\\n",
    "           from tmp_arco2 as t1 \\\n",
    "           inner join tmp_f29 as t2 on t1.receptor = t2.cont_rut and t1.dcv_ptributario = t2.periodo \\\n",
    "           where 1=1\\\n",
    "           group by t1.dcv_ptributario,receptor,origen\")\n",
    "\n",
    "\n",
    "    \n",
    "#df.registerTempTable('tmp_resultado_arco2')\n",
    "#202112: 748.719\n",
    "# 202112: 8.498.813\n",
    "\n",
    "df.write.mode('overwrite').format(\"parquet\").save(\"abfs://data@datalakesii.dfs.core.windows.net/DatosOrigen/lr-629/iva_credito/intermedia/resultado_arco2\")\n"
   ]
  },
  {
   "cell_type": "code",
   "execution_count": 53,
   "id": "d00ffaf5-96ef-4ce5-9b9f-245c2b5ab959",
   "metadata": {
    "tags": []
   },
   "outputs": [
    {
     "name": "stdout",
     "output_type": "stream",
     "text": [
      "tmp_resultado_arco2 ok\n"
     ]
    }
   ],
   "source": [
    "spark.read.parquet(\"abfs://data@datalakesii.dfs.core.windows.net/DatosOrigen/lr-629/iva_credito/intermedia/resultado_arco2\").registerTempTable('tmp_resultado_arco2')\n",
    "print(\"tmp_resultado_arco2 ok\")"
   ]
  },
  {
   "cell_type": "code",
   "execution_count": 54,
   "id": "f4136e01-0fd2-4ffa-bfd7-61e81c50eb20",
   "metadata": {
    "tags": []
   },
   "outputs": [],
   "source": [
    "# Paso 10\n",
    "# Determinación del Arco3\n",
    "df=spark.sql(\"select t1.dcv_ptributario, t1.det_rut_doc_e, t1.iva_fact as iva_fact_emisor, t1.iva_nc as iva_nc_emisor,\\\n",
    "                     t1.receptor,\\\n",
    "                     t2.iva_fact_cdo, t2.iva_nc_cdo,t2.iva_neto_cdo,\\\n",
    "                     round(t2.prop_fact_cdo,5) as porc_fact_ctdo_r, \\\n",
    "                     round(t2.prop_nc_cdo,5) as porc_nc_ctdo_r,\\\n",
    "                     round(iva_fact*t2.prop_fact_cdo,1) as pro_iva_fact_contdo,\\\n",
    "                     round(iva_nc*t2.prop_nc_cdo,1) as pro_iva_nc_contdo,\\\n",
    "                     round(iva_neto*t2.prop_neto_cdo,1) as pro_iva_neto_contdo, \\\n",
    "                     t2.origen\\\n",
    "              from tmp_res_docto as t1 \\\n",
    "              inner join tmp_resultado_arco2 as t2 on t1.det_rut_doc_e = t2.receptor and t1.dcv_ptributario = t2.dcv_ptributario\\\n",
    "              where t2.iva_fact_cdo > 0\\\n",
    "              and   t1.det_rut_doc_e != t1.receptor\")\n",
    "\n",
    "df.registerTempTable('tmp_arco3')\n",
    "#202112: 15.709.746\n",
    "#1.131.188"
   ]
  },
  {
   "cell_type": "code",
   "execution_count": 55,
   "id": "90ed0a94-c439-4205-83e7-15f42b89e02b",
   "metadata": {
    "tags": []
   },
   "outputs": [
    {
     "name": "stderr",
     "output_type": "stream",
     "text": [
      "                                                                                \r"
     ]
    }
   ],
   "source": [
    "#Paso 11: Resultado Arco3\n",
    "\n",
    "\n",
    "df=spark.sql(\"select t1.dcv_ptributario, receptor,\\\n",
    "                  max(t2.monto_fact_re) as monto_fact_reci,\\\n",
    "                  max(t2.nc_re) as monto_nc_reci,\\\n",
    "                  max(t2.monto_neto_re)+max(t2.monto_cr_especial) as monto_neto_reci,\\\n",
    "                  case when round(sum(pro_iva_fact_contdo),1) <= max(t2.monto_fact_re) then round(sum(pro_iva_fact_contdo),1) else max(t2.monto_fact_re) end as iva_fact_cdo,\\\n",
    "                  case when round(sum(pro_iva_nc_contdo),1) <= max(t2.nc_re) then round(sum(pro_iva_nc_contdo),1) else max(t2.nc_re) end as iva_nc_cdo,\\\n",
    "                  case when round(sum(pro_iva_neto_contdo),1) <= max(t2.monto_neto_re) then round(sum(pro_iva_neto_contdo),1) else max(t2.monto_neto_re) end as iva_neto_cdo,\\\n",
    "                  case when sum(pro_iva_fact_contdo) <= max(t2.monto_fact_re) \\\n",
    "                       then round(sum(pro_iva_fact_contdo)/max(t2.monto_fact_re),5)\\\n",
    "                  else 1 end as prop_fact_cdo,\\\n",
    "                  case when sum(pro_iva_nc_contdo) <= max(t2.nc_re) \\\n",
    "                       then round(sum(pro_iva_nc_contdo)/max(t2.nc_re),5)\\\n",
    "                  else 1 end as prop_nc_cdo,\\\n",
    "                  case when sum(pro_iva_neto_contdo) <= max(t2.monto_neto_re) \\\n",
    "                       then round(sum(pro_iva_neto_contdo)/max(t2.monto_neto_re),5)\\\n",
    "                  else 1 end as prop_neto_cdo,\\\n",
    "                  max(t2.F29_c_537) as c_537,\\\n",
    "                  3 as arco,\\\n",
    "                  origen\\\n",
    "           from tmp_arco3 as t1 \\\n",
    "           inner join tmp_f29 as t2 on t1.receptor = t2.cont_rut and t1.dcv_ptributario = t2.periodo \\\n",
    "           where 1=1\\\n",
    "           group by t1.dcv_ptributario,receptor,origen\")\n",
    "\n",
    "#df.registerTempTable('tmp_resultado_arco3')\n",
    "#202112: 817.023\n",
    "#336.809\n",
    "#816.291\n",
    "\n",
    "#   origen|count(1)|\n",
    "#+----------+--------+\n",
    "#|    ALERTA|  810485|\n",
    "#|NO DECLARA|  816291|\n",
    "\n",
    "df.write.mode('overwrite').format(\"parquet\").save(\"abfs://data@datalakesii.dfs.core.windows.net/DatosOrigen/lr-629/iva_credito/intermedia/resultado_arco3\")\n"
   ]
  },
  {
   "cell_type": "code",
   "execution_count": 56,
   "id": "9b084a1d-f7e6-46d2-84db-ca35e8e1cc64",
   "metadata": {
    "tags": []
   },
   "outputs": [
    {
     "name": "stdout",
     "output_type": "stream",
     "text": [
      "tmp_resultado_arco3 ok\n"
     ]
    }
   ],
   "source": [
    "spark.read.parquet(\"abfs://data@datalakesii.dfs.core.windows.net/DatosOrigen/lr-629/iva_credito/intermedia/resultado_arco3\").registerTempTable('tmp_resultado_arco3')\n",
    "print(\"tmp_resultado_arco3 ok\")"
   ]
  },
  {
   "cell_type": "code",
   "execution_count": 57,
   "id": "025e96e3-648b-4e92-931b-e1b912a99885",
   "metadata": {
    "tags": []
   },
   "outputs": [],
   "source": [
    "# Paso 12\n",
    "# Determinación del Arco4\n",
    "df=spark.sql(\"select t1.dcv_ptributario, t1.det_rut_doc_e, iva_fact as iva_fact_emisor, iva_nc as iva_nc_emisor, \\\n",
    "                     t1.receptor,  \\\n",
    "                     t2.iva_fact_cdo, t2.iva_nc_cdo,t2.iva_neto_cdo,\\\n",
    "                     round(t2.prop_fact_cdo,1) as porc_fact_ctdo_r, \\\n",
    "                     round(t2.prop_nc_cdo,1) as porc_nc_ctdo_r,\\\n",
    "                     round(iva_fact*t2.prop_fact_cdo,5) as pro_iva_fact_contdo,\\\n",
    "                     round(iva_nc*t2.prop_nc_cdo,5) as pro_iva_nc_contdo,\\\n",
    "                     round(iva_neto*t2.prop_neto_cdo,5) as pro_iva_neto_contdo, \\\n",
    "                     t2.origen\\\n",
    "              from tmp_res_docto as t1 \\\n",
    "              inner join tmp_resultado_arco3 as t2 on t1.det_rut_doc_e = t2.receptor and t1.dcv_ptributario = t2.dcv_ptributario\\\n",
    "              where t2.iva_fact_cdo > 0\\\n",
    "              and   t1.det_rut_doc_e != t1.receptor\")\n",
    "\n",
    "df.registerTempTable('tmp_arco4')\n",
    "#15.719.882\n",
    "#9.185"
   ]
  },
  {
   "cell_type": "code",
   "execution_count": 58,
   "id": "61399ea1-10cc-4e72-9eef-c2499a1b9efd",
   "metadata": {
    "tags": []
   },
   "outputs": [
    {
     "name": "stderr",
     "output_type": "stream",
     "text": [
      "                                                                                \r"
     ]
    }
   ],
   "source": [
    "#Paso 13: Resultado Arco4\n",
    "\n",
    "\n",
    "df=spark.sql(\"select t1.dcv_ptributario, receptor, \\\n",
    "                  max(t2.monto_fact_re) as monto_fact_reci, \\\n",
    "                  max(t2.nc_re) as monto_nc_reci,\\\n",
    "                  max(t2.monto_neto_re)+max(t2.monto_cr_especial) as monto_neto_reci,\\\n",
    "                  case when round(sum(pro_iva_fact_contdo),1) <= max(t2.monto_fact_re) then round(sum(pro_iva_fact_contdo),1) else max(t2.monto_fact_re) end as iva_fact_cdo, \\\n",
    "                  case when round(sum(pro_iva_nc_contdo),1) <= max(t2.nc_re) then round(sum(pro_iva_nc_contdo),1) else max(t2.nc_re) end as iva_nc_cdo, \\\n",
    "                  case when round(sum(pro_iva_neto_contdo),1) <= max(t2.monto_neto_re) then round(sum(pro_iva_neto_contdo),1) else max(t2.monto_neto_re) end as iva_neto_cdo, \\\n",
    "                  case when sum(pro_iva_fact_contdo) <= max(t2.monto_fact_re) \\\n",
    "                       then round(sum(pro_iva_fact_contdo)/max(t2.monto_fact_re),5)\\\n",
    "                  else 1 end as prop_fact_cdo,\\\n",
    "                  case when sum(pro_iva_nc_contdo) <= max(t2.nc_re) \\\n",
    "                       then round(sum(pro_iva_nc_contdo)/max(t2.nc_re),5)\\\n",
    "                  else 1 end as prop_nc_cdo,\\\n",
    "                  case when sum(pro_iva_neto_contdo) <= max(t2.monto_neto_re) \\\n",
    "                       then round(sum(pro_iva_neto_contdo)/max(t2.monto_neto_re),5)\\\n",
    "                  else 1 end as prop_neto_cdo,\\\n",
    "                  max(t2.F29_c_537) as c_537,\\\n",
    "                  4 as arco,\\\n",
    "                  origen\\\n",
    "           from tmp_arco4 as t1 \\\n",
    "           inner join tmp_f29 as t2 on t1.receptor = t2.cont_rut and t1.dcv_ptributario = t2.periodo \\\n",
    "           where 1=1\\\n",
    "           group by t1.dcv_ptributario,receptor,origen\")\n",
    "\n",
    "#df.registerTempTable('tmp_resultado_arco4')\n",
    "#202112: 817.142\n",
    "#6.928\n",
    "\n",
    "#+----------+--------+\n",
    "#|    origen|count(1)|\n",
    "#+----------+--------+\n",
    "#|    ALERTA|  816993|\n",
    "#|NO DECLARA|  817109|\n",
    "#+----------+--------+\n",
    "\n",
    "df.write.mode('overwrite').format(\"parquet\").save(\"abfs://data@datalakesii.dfs.core.windows.net/DatosOrigen/lr-629/iva_credito/intermedia/resultado_arco4\")\n"
   ]
  },
  {
   "cell_type": "code",
   "execution_count": 59,
   "id": "59e94597-9b5b-4794-a884-7d72caf18653",
   "metadata": {
    "tags": []
   },
   "outputs": [
    {
     "name": "stdout",
     "output_type": "stream",
     "text": [
      "tmp_resultado_arco4 ok\n"
     ]
    }
   ],
   "source": [
    "spark.read.parquet(\"abfs://data@datalakesii.dfs.core.windows.net/DatosOrigen/lr-629/iva_credito/intermedia/resultado_arco4\").registerTempTable('tmp_resultado_arco4')\n",
    "print(\"tmp_resultado_arco4 ok\")"
   ]
  },
  {
   "cell_type": "code",
   "execution_count": 60,
   "id": "fb0a37d5-cc99-46cf-8547-0f72524e1810",
   "metadata": {
    "tags": []
   },
   "outputs": [],
   "source": [
    "# Paso 14\n",
    "# Determinación del Arco5\n",
    "df=spark.sql(\"select t1.dcv_ptributario, t1.det_rut_doc_e, iva_fact as iva_fact_emisor, iva_nc as iva_nc_emisor, \\\n",
    "                     t1.receptor,  \\\n",
    "                     t2.iva_fact_cdo, t2.iva_nc_cdo,t2.iva_neto_cdo,\\\n",
    "                     round(t2.prop_fact_cdo,1) as porc_fact_ctdo_r, \\\n",
    "                     round(t2.prop_nc_cdo,1) as porc_nc_ctdo_r,\\\n",
    "                     round(iva_fact*t2.prop_fact_cdo,5) as pro_iva_fact_contdo,\\\n",
    "                     round(iva_nc*t2.prop_nc_cdo,5) as pro_iva_nc_contdo,\\\n",
    "                     round(iva_neto*t2.prop_neto_cdo,5) as pro_iva_neto_contdo, \\\n",
    "                     t2.origen\\\n",
    "              from tmp_res_docto as t1 \\\n",
    "              inner join tmp_resultado_arco4 as t2 on t1.det_rut_doc_e = t2.receptor and t1.dcv_ptributario = t2.dcv_ptributario\\\n",
    "              where t2.iva_fact_cdo > 0\\\n",
    "              and   t1.det_rut_doc_e != t1.receptor\")\n",
    "\n",
    "df.registerTempTable('tmp_arco5')\n",
    "#202112: 15.719.925\n",
    "#9.185"
   ]
  },
  {
   "cell_type": "code",
   "execution_count": 61,
   "id": "fc20f74a-0296-44dc-85ec-35f60ef317d9",
   "metadata": {
    "tags": []
   },
   "outputs": [
    {
     "name": "stderr",
     "output_type": "stream",
     "text": [
      "                                                                                \r"
     ]
    }
   ],
   "source": [
    "####################################################\n",
    "########Paso 15: Resultado Arco5 ###################\n",
    "####################################################\n",
    "\n",
    "df=spark.sql(\"select t1.dcv_ptributario, receptor, \\\n",
    "                  max(t2.monto_fact_re) as monto_fact_reci, \\\n",
    "                  max(t2.nc_re) as monto_nc_reci,\\\n",
    "                  max(t2.monto_neto_re)+max(t2.monto_cr_especial) as monto_neto_reci,\\\n",
    "                  case when round(sum(pro_iva_fact_contdo),1) <= max(t2.monto_fact_re) then round(sum(pro_iva_fact_contdo),1) else max(t2.monto_fact_re) end as iva_fact_cdo, \\\n",
    "                  case when round(sum(pro_iva_nc_contdo),1) <= max(t2.nc_re) then round(sum(pro_iva_nc_contdo),1) else max(t2.nc_re) end as iva_nc_cdo, \\\n",
    "                  case when round(sum(pro_iva_neto_contdo),1) <= max(t2.monto_neto_re) then round(sum(pro_iva_neto_contdo),1) else max(t2.monto_neto_re) end as iva_neto_cdo, \\\n",
    "                  case when sum(pro_iva_fact_contdo) <= max(t2.monto_fact_re) \\\n",
    "                       then round(sum(pro_iva_fact_contdo)/max(t2.monto_fact_re),5)\\\n",
    "                  else 1 end as prop_fact_cdo,\\\n",
    "                  case when sum(pro_iva_nc_contdo) <= max(t2.nc_re) \\\n",
    "                       then round(sum(pro_iva_nc_contdo)/max(t2.nc_re),5)\\\n",
    "                  else 1 end as prop_nc_cdo,\\\n",
    "                  case when sum(pro_iva_neto_contdo) <= max(t2.monto_neto_re) \\\n",
    "                       then round(sum(pro_iva_neto_contdo)/max(t2.monto_neto_re),5)\\\n",
    "                  else 1 end as prop_neto_cdo,\\\n",
    "                  max(t2.F29_c_537) as c_537,\\\n",
    "                  5 as arco,\\\n",
    "                  t1.origen\\\n",
    "           from tmp_arco5 as t1 \\\n",
    "           inner join tmp_f29 as t2 on t1.receptor = t2.cont_rut and t1.dcv_ptributario = t2.periodo \\\n",
    "           where 1=1\\\n",
    "           group by t1.dcv_ptributario,receptor,origen\")\n",
    "\n",
    "#df.registerTempTable('tmp_resultado_arco5')\n",
    "#817.149\n",
    "#109\n",
    "\n",
    "#+----------+--------+\n",
    "#|    origen|count(1)|\n",
    "#+----------+--------+\n",
    "#|    ALERTA|  817153|\n",
    "#|NO DECLARA|  817131|\n",
    "#+----------+--------+\n",
    "\n",
    "df.write.mode('overwrite').format(\"parquet\").save(\"abfs://data@datalakesii.dfs.core.windows.net/DatosOrigen/lr-629/iva_credito/intermedia/resultado_arco5\")\n"
   ]
  },
  {
   "cell_type": "code",
   "execution_count": 62,
   "id": "4fdef6c3-f6b4-4731-9fbb-78712371528e",
   "metadata": {
    "tags": []
   },
   "outputs": [
    {
     "name": "stdout",
     "output_type": "stream",
     "text": [
      "tmp_resultado_arco5 ok\n"
     ]
    }
   ],
   "source": [
    "spark.read.parquet(\"abfs://data@datalakesii.dfs.core.windows.net/DatosOrigen/lr-629/iva_credito/intermedia/resultado_arco5\").registerTempTable('tmp_resultado_arco5')\n",
    "print(\"tmp_resultado_arco5 ok\")"
   ]
  },
  {
   "cell_type": "code",
   "execution_count": 63,
   "id": "aeab62bd-1b70-4ab4-b0bc-d9f27bd8296e",
   "metadata": {
    "tags": []
   },
   "outputs": [
    {
     "name": "stderr",
     "output_type": "stream",
     "text": [
      "                                                                                \r"
     ]
    }
   ],
   "source": [
    "#Para exportar los datos en archivo plano\n",
    "df=spark.sql(\"select dcv_ptributario,receptor,f29_fact_reci,f29_nc_reci,f29_neto_reci, iva_fact_cdo, iva_nc_cdo,iva_neto_cdo,\\\n",
    "                     porc_fact_ctdo_r, porc_nc_ctdo_r, porc_neto_ctdo_r,arco, c_537,origen\\\n",
    "              from tmp_resultado_arco1\\\n",
    "              union\\\n",
    "              select dcv_ptributario,receptor,monto_fact_reci,monto_nc_reci,monto_neto_reci,iva_fact_cdo,iva_nc_cdo,iva_neto_cdo,\\\n",
    "                     prop_fact_cdo,prop_nc_cdo,prop_neto_cdo,arco,c_537,origen\\\n",
    "              from tmp_resultado_arco2\\\n",
    "              union \\\n",
    "              select dcv_ptributario,receptor,monto_fact_reci,monto_nc_reci,monto_neto_reci,iva_fact_cdo,iva_nc_cdo,iva_neto_cdo,\\\n",
    "                     prop_fact_cdo,prop_nc_cdo,prop_neto_cdo,arco,c_537,origen\\\n",
    "              from tmp_resultado_arco3\\\n",
    "              union \\\n",
    "              select dcv_ptributario,receptor,monto_fact_reci,monto_nc_reci,monto_neto_reci,iva_fact_cdo,iva_nc_cdo,iva_neto_cdo,\\\n",
    "                     prop_fact_cdo,prop_nc_cdo,prop_neto_cdo,arco,c_537,origen\\\n",
    "              from tmp_resultado_arco4\\\n",
    "              union \\\n",
    "              select dcv_ptributario,receptor,monto_fact_reci,monto_nc_reci,monto_neto_reci,iva_fact_cdo,iva_nc_cdo,iva_neto_cdo,\\\n",
    "                     prop_fact_cdo,prop_nc_cdo,prop_neto_cdo,arco,c_537,origen\\\n",
    "              from tmp_resultado_arco5\")\n",
    "\n",
    "#df.registerTempTable(\"tmp_resultado\")\n",
    "df.write.mode('overwrite').format(\"parquet\").save(\"abfs://data@datalakesii.dfs.core.windows.net/DatosOrigen/lr-629/iva_credito/intermedia/resultado\")\n",
    "#3.649.767 "
   ]
  },
  {
   "cell_type": "code",
   "execution_count": 64,
   "id": "8c24fe3e-8eff-4929-a28f-81eb50e7d62e",
   "metadata": {
    "tags": []
   },
   "outputs": [
    {
     "name": "stdout",
     "output_type": "stream",
     "text": [
      "tmp_resultado ok\n"
     ]
    }
   ],
   "source": [
    "spark.read.parquet(\"abfs://data@datalakesii.dfs.core.windows.net/DatosOrigen/lr-629/iva_credito/intermedia/resultado\").registerTempTable('tmp_resultado')\n",
    "\n",
    "print(\"tmp_resultado ok\")"
   ]
  },
  {
   "cell_type": "code",
   "execution_count": 65,
   "id": "a92cda84-b4ec-4968-905d-f05f10862120",
   "metadata": {
    "tags": []
   },
   "outputs": [
    {
     "name": "stderr",
     "output_type": "stream",
     "text": [
      "                                                                                \r"
     ]
    }
   ],
   "source": [
    "#Paso 16: Totaliza resultado de Receptores\n",
    "df=spark.sql(\"select t1.dcv_ptributario, t1.receptor, max(t1.f29_fact_reci) as f29_fact_reci, max(t1.f29_nc_reci) as f29_nc_reci, \\\n",
    "                     max(t1.f29_neto_reci) as f29_neto_reci,\\\n",
    "                     0 as iva_fact_cdo, \\\n",
    "                     0 as iva_nc_cdo, \\\n",
    "                     0 as iva_neto_cdo,\\\n",
    "                     0 as prop_fact_cdo, \\\n",
    "                     0 as prop_nc_cdo, \\\n",
    "                     0 as prop_neto_cdo, \\\n",
    "                     max(t1.c_537) as c_537,\\\n",
    "                     count(*) as qty_arco,origen\\\n",
    "              from tmp_resultado as t1\\\n",
    "              inner join tmp_f29_1 as t2 on t1.receptor = t2.cont_rut and t1.dcv_ptributario = t2.periodo\\\n",
    "              group by dcv_ptributario, receptor,origen\")\n",
    "\n",
    "#df.registerTempTable('tmp_prep_resultado_resumen')\n",
    "\n",
    "df.write.mode('overwrite').format(\"parquet\").save(\"abfs://data@datalakesii.dfs.core.windows.net/DatosOrigen/lr-629/iva_credito/intermedia/prep_resultado_resumen\")"
   ]
  },
  {
   "cell_type": "code",
   "execution_count": 66,
   "id": "91b3e9ed-eab0-4458-a152-46da95e1fb52",
   "metadata": {
    "tags": []
   },
   "outputs": [
    {
     "name": "stdout",
     "output_type": "stream",
     "text": [
      "tmp_prep_resultado_resumen ok\n"
     ]
    }
   ],
   "source": [
    "spark.read.parquet(\"abfs://data@datalakesii.dfs.core.windows.net/DatosOrigen/lr-629/iva_credito/intermedia/prep_resultado_resumen\").registerTempTable('tmp_prep_resultado_resumen')\n",
    "\n",
    "print(\"tmp_prep_resultado_resumen ok\")"
   ]
  },
  {
   "cell_type": "code",
   "execution_count": 67,
   "id": "5769089a-9ba7-490b-949d-297bcf132f6c",
   "metadata": {
    "tags": []
   },
   "outputs": [
    {
     "name": "stderr",
     "output_type": "stream",
     "text": [
      "                                                                                \r"
     ]
    }
   ],
   "source": [
    "df=spark.sql(\"select t1.dcv_ptributario, t1.receptor, t1.f29_fact_reci, t1.f29_nc_reci, \\\n",
    "                  t1.f29_neto_reci,t1.c_537,qty_arco,\\\n",
    "                  case \\\n",
    "                      when t2.origen = -3 then coalesce(t2.iva_neto_cdo,0) \\\n",
    "                      when coalesce(t2.iva_neto_cdo,0) > 0 and coalesce(t2.iva_neto_cdo,0) > t1.f29_neto_reci then t1.f29_neto_reci \\\n",
    "                      when coalesce(t2.iva_neto_cdo,0) < 0 then coalesce(t2.iva_neto_cdo,0) \\\n",
    "                      else coalesce(t2.iva_neto_cdo,0) \\\n",
    "                  end as iva_neto_cdo_a1,\\\n",
    "                  case \\\n",
    "                      when coalesce(t2.porc_neto_ctdo_r,0) > 1 then 1 \\\n",
    "                      when coalesce(t2.porc_neto_ctdo_r,0) < 0 then coalesce(t2.porc_neto_ctdo_r,0) \\\n",
    "                      else coalesce(t2.porc_neto_ctdo_r,0) \\\n",
    "                  end as prop_neto_cdo_a1,\\\n",
    "                  case \\\n",
    "                      when t3.origen = -3 then coalesce(t3.iva_neto_cdo,0) \\\n",
    "                      when coalesce(t3.iva_neto_cdo,0) > 0 and coalesce(t3.iva_neto_cdo,0) > t1.f29_neto_reci then t1.f29_neto_reci \\\n",
    "                      when coalesce(t3.iva_neto_cdo,0) < 0 then coalesce(t3.iva_neto_cdo,0) \\\n",
    "                      else coalesce(t3.iva_neto_cdo,0) \\\n",
    "                  end as  iva_neto_cdo_a2,\\\n",
    "                  case \\\n",
    "                      when coalesce(t3.prop_neto_cdo,0) > 1 then 1 \\\n",
    "                      when coalesce(t3.prop_neto_cdo,0) < 0 then coalesce(t3.prop_neto_cdo,0) \\\n",
    "                      else coalesce(t3.prop_neto_cdo,0) \\\n",
    "                  end as prop_neto_cdo_a2,\\\n",
    "                  case \\\n",
    "                      when t4.origen = -3 then coalesce(t4.iva_neto_cdo,0) \\\n",
    "                      when coalesce(t4.iva_neto_cdo,0) > 0 and coalesce(t4.iva_neto_cdo,0) > t1.f29_neto_reci then t1.f29_neto_reci \\\n",
    "                      when coalesce(t4.iva_neto_cdo,0) < 0 then coalesce(t4.iva_neto_cdo,0) \\\n",
    "                      else coalesce(t4.iva_neto_cdo,0) \\\n",
    "                  end as  iva_neto_cdo_a3,\\\n",
    "                  case \\\n",
    "                      when coalesce(t4.prop_neto_cdo,0) > 1 then 1 \\\n",
    "                      when coalesce(t4.prop_neto_cdo,0) < 0 then coalesce(t4.prop_neto_cdo,0) \\\n",
    "                      else coalesce(t4.prop_neto_cdo,0) \\\n",
    "                  end as prop_neto_cdo_a3,\\\n",
    "                  case \\\n",
    "                      when t5.origen = -3 then coalesce(t5.iva_neto_cdo,0) \\\n",
    "                      when coalesce(t5.iva_neto_cdo,0) > 0 and coalesce(t5.iva_neto_cdo,0) > t1.f29_neto_reci then t1.f29_neto_reci \\\n",
    "                      when coalesce(t5.iva_neto_cdo,0) < 0 then coalesce(t5.iva_neto_cdo,0) \\\n",
    "                      else coalesce(t5.iva_neto_cdo,0) \\\n",
    "                  end as  iva_neto_cdo_a4,\\\n",
    "                  case \\\n",
    "                      when coalesce(t5.prop_neto_cdo,0) > 1 then 1 \\\n",
    "                      when coalesce(t5.prop_neto_cdo,0) < 0 then coalesce(t5.prop_neto_cdo,0) \\\n",
    "                      else coalesce(t5.prop_neto_cdo,0) \\\n",
    "                  end as prop_neto_cdo_a4,\\\n",
    "                  case \\\n",
    "                      when t6.origen = -3 then coalesce(t6.iva_neto_cdo,0) \\\n",
    "                      when coalesce(t6.iva_neto_cdo,0) > 0 and coalesce(t6.iva_neto_cdo,0) > t1.f29_neto_reci then t1.f29_neto_reci \\\n",
    "                      when coalesce(t6.iva_neto_cdo,0) < 0 then coalesce(t6.iva_neto_cdo,0) \\\n",
    "                      else coalesce(t6.iva_neto_cdo,0) \\\n",
    "                  end as  iva_neto_cdo_a5,\\\n",
    "                  case \\\n",
    "                      when coalesce(t6.prop_neto_cdo,0) > 1 then 1 \\\n",
    "                      when coalesce(t6.prop_neto_cdo,0) < 0 then coalesce(t6.prop_neto_cdo,0) \\\n",
    "                      else coalesce(t6.prop_neto_cdo,0) \\\n",
    "                  end as prop_neto_cdo_a5,\\\n",
    "                  case \\\n",
    "                      when t2.origen = 3 then coalesce(t2.iva_neto_cdo,0) \\\n",
    "                      when coalesce(t2.iva_neto_cdo,0) > 0 and coalesce(t2.iva_neto_cdo,0) > t1.f29_neto_reci then t1.f29_neto_reci \\\n",
    "                      when coalesce(t2.iva_neto_cdo,0) < 0 then coalesce(t2.iva_neto_cdo,0) \\\n",
    "                      else coalesce(t2.iva_neto_cdo,0) \\\n",
    "                  end +\\\n",
    "                  case \\\n",
    "                      when t3.origen = -3 then coalesce(t3.iva_neto_cdo,0) \\\n",
    "                      when coalesce(t3.iva_neto_cdo,0) > 0 and coalesce(t3.iva_neto_cdo,0) > t1.f29_neto_reci then t1.f29_neto_reci \\\n",
    "                      when coalesce(t3.iva_neto_cdo,0) < 0 then coalesce(t3.iva_neto_cdo,0) \\\n",
    "                      else coalesce(t3.iva_neto_cdo,0) \\\n",
    "                  end +\\\n",
    "                  case \\\n",
    "                      when t4.origen = -3 then coalesce(t4.iva_neto_cdo,0) \\\n",
    "                      when coalesce(t4.iva_neto_cdo,0) > 0 and coalesce(t4.iva_neto_cdo,0) > t1.f29_neto_reci then t1.f29_neto_reci \\\n",
    "                      when coalesce(t4.iva_neto_cdo,0) < 0 then coalesce(t4.iva_neto_cdo,0) \\\n",
    "                      else coalesce(t4.iva_neto_cdo,0) \\\n",
    "                  end +\\\n",
    "                  case \\\n",
    "                      when t5.origen = -3 then coalesce(t5.iva_neto_cdo,0) \\\n",
    "                      when coalesce(t5.iva_neto_cdo,0) > 0 and coalesce(t5.iva_neto_cdo,0) > t1.f29_neto_reci then t1.f29_neto_reci \\\n",
    "                      when coalesce(t5.iva_neto_cdo,0) < 0 then coalesce(t5.iva_neto_cdo,0) \\\n",
    "                      else coalesce(t5.iva_neto_cdo,0) \\\n",
    "                  end +\\\n",
    "                  case \\\n",
    "                      when t6.origen = -3 then coalesce(t6.iva_neto_cdo,0) \\\n",
    "                      when coalesce(t6.iva_neto_cdo,0) > 0 and coalesce(t6.iva_neto_cdo,0) > t1.f29_neto_reci then t1.f29_neto_reci \\\n",
    "                      when coalesce(t6.iva_neto_cdo,0) < 0 then coalesce(t6.iva_neto_cdo,0) \\\n",
    "                      else coalesce(t6.iva_neto_cdo,0) \\\n",
    "                  end as  total_cont,\\\n",
    "            case when \\\n",
    "                  case \\\n",
    "                      when t2.origen = -3 then coalesce(t2.iva_neto_cdo,0) \\\n",
    "                      when coalesce(t2.iva_neto_cdo,0) > 0 and coalesce(t2.iva_neto_cdo,0) > t1.f29_neto_reci then t1.f29_neto_reci \\\n",
    "                      when coalesce(t2.iva_neto_cdo,0) < 0 then coalesce(t2.iva_neto_cdo,0) \\\n",
    "                      else coalesce(t2.iva_neto_cdo,0) \\\n",
    "                  end +\\\n",
    "                  case \\\n",
    "                      when t3.origen = -3 then coalesce(t3.iva_neto_cdo,0) \\\n",
    "                      when coalesce(t3.iva_neto_cdo,0) > 0 and coalesce(t3.iva_neto_cdo,0) > t1.f29_neto_reci then t1.f29_neto_reci \\\n",
    "                      when coalesce(t3.iva_neto_cdo,0) < 0 then coalesce(t3.iva_neto_cdo,0) \\\n",
    "                      else coalesce(t3.iva_neto_cdo,0) \\\n",
    "                  end +\\\n",
    "                  case \\\n",
    "                      when t4.origen = -3 then coalesce(t4.iva_neto_cdo,0) \\\n",
    "                      when coalesce(t4.iva_neto_cdo,0) > 0 and coalesce(t4.iva_neto_cdo,0) > t1.f29_neto_reci then t1.f29_neto_reci \\\n",
    "                      when coalesce(t4.iva_neto_cdo,0) < 0 then coalesce(t4.iva_neto_cdo,0) \\\n",
    "                      else coalesce(t4.iva_neto_cdo,0) \\\n",
    "                  end +\\\n",
    "                  case \\\n",
    "                      when t5.origen = -3 then coalesce(t5.iva_neto_cdo,0) \\\n",
    "                      when coalesce(t5.iva_neto_cdo,0) > 0 and coalesce(t5.iva_neto_cdo,0) > t1.f29_neto_reci then t1.f29_neto_reci \\\n",
    "                      when coalesce(t5.iva_neto_cdo,0) < 0 then coalesce(t5.iva_neto_cdo,0) \\\n",
    "                      else coalesce(t5.iva_neto_cdo,0) \\\n",
    "                  end +\\\n",
    "                  case \\\n",
    "                      when t6.origen = -3 then coalesce(t6.iva_neto_cdo,0) \\\n",
    "                      when coalesce(t6.iva_neto_cdo,0) > 0 and coalesce(t6.iva_neto_cdo,0) > t1.f29_neto_reci then t1.f29_neto_reci \\\n",
    "                      when coalesce(t6.iva_neto_cdo,0) < 0 then coalesce(t6.iva_neto_cdo,0) \\\n",
    "                      else coalesce(t6.iva_neto_cdo,0) \\\n",
    "                  end > t1.f29_neto_reci then 1 \\\n",
    "                else \\\n",
    "                  (case \\\n",
    "                      when t2.origen = -3 then coalesce(t2.iva_neto_cdo,0) \\\n",
    "                      when coalesce(t2.iva_neto_cdo,0) > 0 and coalesce(t2.iva_neto_cdo,0) > t1.f29_neto_reci then t1.f29_neto_reci \\\n",
    "                      when coalesce(t2.iva_neto_cdo,0) < 0 then coalesce(t2.iva_neto_cdo,0) \\\n",
    "                      else coalesce(t2.iva_neto_cdo,0) \\\n",
    "                  end +\\\n",
    "                  case \\\n",
    "                      when t3.origen = -3 then coalesce(t3.iva_neto_cdo,0) \\\n",
    "                      when coalesce(t3.iva_neto_cdo,0) > 0 and coalesce(t3.iva_neto_cdo,0) > t1.f29_neto_reci then t1.f29_neto_reci \\\n",
    "                      when coalesce(t3.iva_neto_cdo,0) < 0 then coalesce(t3.iva_neto_cdo,0) \\\n",
    "                      else coalesce(t3.iva_neto_cdo,0) \\\n",
    "                  end +\\\n",
    "                  case \\\n",
    "                      when t4.origen = -3 then coalesce(t4.iva_neto_cdo,0) \\\n",
    "                      when coalesce(t4.iva_neto_cdo,0) > 0 and coalesce(t4.iva_neto_cdo,0) > t1.f29_neto_reci then t1.f29_neto_reci \\\n",
    "                      when coalesce(t4.iva_neto_cdo,0) < 0 then coalesce(t4.iva_neto_cdo,0) \\\n",
    "                      else coalesce(t4.iva_neto_cdo,0) \\\n",
    "                  end +\\\n",
    "                  case \\\n",
    "                      when t5.origen = -3 then coalesce(t5.iva_neto_cdo,0) \\\n",
    "                      when coalesce(t5.iva_neto_cdo,0) > 0 and coalesce(t5.iva_neto_cdo,0) > t1.f29_neto_reci then t1.f29_neto_reci \\\n",
    "                      when coalesce(t5.iva_neto_cdo,0) < 0 then coalesce(t5.iva_neto_cdo,0) \\\n",
    "                      else coalesce(t5.iva_neto_cdo,0) \\\n",
    "                  end +\\\n",
    "                  case \\\n",
    "                      when t6.origen = -3 then coalesce(t6.iva_neto_cdo,0) \\\n",
    "                      when coalesce(t6.iva_neto_cdo,0) > 0 and coalesce(t6.iva_neto_cdo,0) > t1.f29_neto_reci then t1.f29_neto_reci \\\n",
    "                      when coalesce(t6.iva_neto_cdo,0) < 0 then coalesce(t6.iva_neto_cdo,0) \\\n",
    "                      else coalesce(t6.iva_neto_cdo,0) \\\n",
    "                  end) / t1.f29_neto_reci \\\n",
    "            end as prop_total_cont,\\\n",
    "                  t2.origen as origen_a1,\\\n",
    "                  t3.origen as origen_a2,\\\n",
    "                  t4.origen as origen_a3,\\\n",
    "                  t5.origen as origen_a4,\\\n",
    "                  t6.origen as origen_a5\\\n",
    "          from tmp_prep_resultado_resumen as t1 \\\n",
    "           left join tmp_resultado_arco1 as t2 on t1.dcv_ptributario = t2.dcv_ptributario and t1.receptor = t2.receptor and t1.origen = t2.origen\\\n",
    "           left join tmp_resultado_arco2 as t3 on t1.dcv_ptributario = t3.dcv_ptributario and t1.receptor = t3.receptor and t1.origen = t3.origen\\\n",
    "           left join tmp_resultado_arco3 as t4 on t1.dcv_ptributario = t4.dcv_ptributario and t1.receptor = t4.receptor and t1.origen = t4.origen\\\n",
    "           left join tmp_resultado_arco4 as t5 on t1.dcv_ptributario = t5.dcv_ptributario and t1.receptor = t5.receptor and t1.origen = t5.origen\\\n",
    "           left join tmp_resultado_arco5 as t6 on t1.dcv_ptributario = t6.dcv_ptributario and t1.receptor = t6.receptor and t1.origen = t6.origen\\\n",
    "           where 1=1\")\n",
    "\n",
    "#df.registerTempTable('tmp_resultado_resumen')\n",
    "df.write.mode('overwrite').format(\"parquet\").save(\"abfs://data@datalakesii.dfs.core.windows.net/DatosOrigen/lr-629/iva_credito/intermedia/iva_resul_resumen\")\n",
    "#df.count()\n",
    "#818620\n",
    "#1.636.111\n",
    "#7.000.724"
   ]
  },
  {
   "cell_type": "code",
   "execution_count": 68,
   "id": "043e8968-f95b-4e65-90ed-ba8be2c4e96f",
   "metadata": {
    "tags": []
   },
   "outputs": [
    {
     "name": "stdout",
     "output_type": "stream",
     "text": [
      "tmp_resultado_resumen ok\n"
     ]
    }
   ],
   "source": [
    "spark.read.parquet(\"abfs://data@datalakesii.dfs.core.windows.net/DatosOrigen/lr-629/iva_credito/intermedia/iva_resul_resumen\").registerTempTable('tmp_resultado_resumen')\n",
    "\n",
    "print(\"tmp_resultado_resumen ok\")"
   ]
  },
  {
   "cell_type": "code",
   "execution_count": 69,
   "id": "1e396ac6-b1b6-4a1f-a8c3-ab43cf3cb2a0",
   "metadata": {
    "tags": []
   },
   "outputs": [],
   "source": [
    "# spark.sql(\"select * from tmp_resultado_resumen where receptor = 'V/3ZEm3kHIMGUMjVTBqquA==' and origen_a1=3\").show()\n"
   ]
  },
  {
   "cell_type": "code",
   "execution_count": 70,
   "id": "1001bc1c-a932-4705-9d0b-e3e519a63c55",
   "metadata": {
    "tags": []
   },
   "outputs": [
    {
     "name": "stderr",
     "output_type": "stream",
     "text": [
      "                                                                                \r"
     ]
    }
   ],
   "source": [
    "#Paso : Receptores unicos\n",
    "df=spark.sql(\"select dcv_ptributario, receptor, max(f29_fact_reci) as f29_fact_reci, max(f29_nc_reci) as f29_nc_reci, \\\n",
    "                     max(f29_neto_reci) as f29_neto_reci,max(c_537) as c_537\\\n",
    "              from tmp_resultado as t1\\\n",
    "              inner join tmp_f29_1 as t2 on t1.receptor = t2.cont_rut and t1.dcv_ptributario = t2.periodo\\\n",
    "              group by dcv_ptributario, receptor\")\n",
    "\n",
    "df.write.mode('overwrite').format(\"parquet\").save(\"abfs://data@datalakesii.dfs.core.windows.net/DatosOrigen/lr-629/iva_credito/intermedia/iva_receptores\")\n",
    "\n",
    "#df.registerTempTable('tmp_receptores')\n",
    "#3.508.340\n",
    "#789.404\n",
    "#790.456"
   ]
  },
  {
   "cell_type": "code",
   "execution_count": 71,
   "id": "60b57660-2fb9-41b3-9a59-eb20625aa192",
   "metadata": {
    "tags": []
   },
   "outputs": [
    {
     "name": "stdout",
     "output_type": "stream",
     "text": [
      "tmp_receptores ok\n"
     ]
    }
   ],
   "source": [
    "spark.read.parquet(\"abfs://data@datalakesii.dfs.core.windows.net/DatosOrigen/lr-629/iva_credito/intermedia/iva_receptores\").registerTempTable('tmp_receptores')\n",
    "\n",
    "print(\"tmp_receptores ok\")"
   ]
  },
  {
   "cell_type": "code",
   "execution_count": 72,
   "id": "8beb042d-908e-4993-a441-2928e178d631",
   "metadata": {
    "tags": []
   },
   "outputs": [
    {
     "name": "stderr",
     "output_type": "stream",
     "text": [
      "                                                                                \r"
     ]
    }
   ],
   "source": [
    "df=spark.sql(\"select tr.dcv_ptributario, tr.receptor, tr.f29_neto_reci, \\\n",
    "                  tal.iva_neto_cdo_a1 as iva_neto_cdo_a1_al,tal.prop_neto_cdo_a1 as prop_neto_cdo_a1_al,\\\n",
    "                  tal.iva_neto_cdo_a2 as iva_neto_cdo_a2_al,tal.prop_neto_cdo_a2 as prop_neto_cdo_a2_al,\\\n",
    "                  tal.iva_neto_cdo_a3 as iva_neto_cdo_a3_al,tal.prop_neto_cdo_a3 as prop_neto_cdo_a3_al,\\\n",
    "                  tal.iva_neto_cdo_a4 as iva_neto_cdo_a4_al,tal.prop_neto_cdo_a4 as prop_neto_cdo_a4_al,\\\n",
    "                  tal.iva_neto_cdo_a5 as iva_neto_cdo_a5_al,tal.prop_neto_cdo_a5 as prop_neto_cdo_a5_al,\\\n",
    "                  tal.total_cont as total_cont_al,tal.prop_total_cont as prop_total_cont_al,\\\n",
    "                  nd.iva_neto_cdo_a1 as iva_neto_cdo_a1_nd,nd.prop_neto_cdo_a1 as prop_neto_cdo_a1_nd,\\\n",
    "                  nd.iva_neto_cdo_a2 as iva_neto_cdo_a2_nd,nd.prop_neto_cdo_a2 as prop_neto_cdo_a2_nd,\\\n",
    "                  nd.iva_neto_cdo_a3 as iva_neto_cdo_a3_nd,nd.prop_neto_cdo_a3 as prop_neto_cdo_a3_nd,\\\n",
    "                  nd.iva_neto_cdo_a4 as iva_neto_cdo_a4_nd,nd.prop_neto_cdo_a4 as prop_neto_cdo_a4_nd,\\\n",
    "                  nd.iva_neto_cdo_a5 as iva_neto_cdo_a5_nd,nd.prop_neto_cdo_a5 as prop_neto_cdo_a5_nd,\\\n",
    "                  nd.total_cont as total_cont_nd,nd.prop_total_cont as prop_total_cont_nd,\\\n",
    "                  ce.iva_neto_cdo_a1 as iva_neto_cdo_a1_ce,ce.prop_neto_cdo_a1 as prop_neto_cdo_a1_ce,\\\n",
    "                  ce.iva_neto_cdo_a2 as iva_neto_cdo_a2_ce,ce.prop_neto_cdo_a2 as prop_neto_cdo_a2_ce,\\\n",
    "                  ce.iva_neto_cdo_a3 as iva_neto_cdo_a3_ce,ce.prop_neto_cdo_a3 as prop_neto_cdo_a3_ce,\\\n",
    "                  ce.iva_neto_cdo_a4 as iva_neto_cdo_a4_ce,ce.prop_neto_cdo_a4 as prop_neto_cdo_a4_ce,\\\n",
    "                  ce.iva_neto_cdo_a5 as iva_neto_cdo_a5_ce,ce.prop_neto_cdo_a5 as prop_neto_cdo_a5_ce,\\\n",
    "                  ce.total_cont as total_cont_ce,ce.prop_total_cont as prop_total_cont_ce,\\\n",
    "                  w08.iva_neto_cdo_a1 as iva_neto_cdo_a1_w08,w08.prop_neto_cdo_a1 as prop_neto_cdo_a1_w08,\\\n",
    "                  w08.iva_neto_cdo_a2 as iva_neto_cdo_a2_w08,w08.prop_neto_cdo_a2 as prop_neto_cdo_a2_w08,\\\n",
    "                  w08.iva_neto_cdo_a3 as iva_neto_cdo_a3_w08,w08.prop_neto_cdo_a3 as prop_neto_cdo_a3_w08,\\\n",
    "                  w08.iva_neto_cdo_a4 as iva_neto_cdo_a4_w08,w08.prop_neto_cdo_a4 as prop_neto_cdo_a4_w08,\\\n",
    "                  w08.iva_neto_cdo_a5 as iva_neto_cdo_a5_w08,w08.prop_neto_cdo_a5 as prop_neto_cdo_a5_w08,\\\n",
    "                  w08.total_cont as total_cont_w08,w08.prop_total_cont as prop_total_cont_w08,\\\n",
    "                  rem.iva_neto_cdo_a1 as iva_neto_cdo_a1_rem,rem.prop_neto_cdo_a1 as prop_neto_cdo_a1_rem,\\\n",
    "                  rem.iva_neto_cdo_a2 as iva_neto_cdo_a2_rem,rem.prop_neto_cdo_a2 as prop_neto_cdo_a2_rem,\\\n",
    "                  rem.iva_neto_cdo_a3 as iva_neto_cdo_a3_rem,rem.prop_neto_cdo_a3 as prop_neto_cdo_a3_rem,\\\n",
    "                  rem.iva_neto_cdo_a4 as iva_neto_cdo_a4_rem,rem.prop_neto_cdo_a4 as prop_neto_cdo_a4_rem,\\\n",
    "                  rem.iva_neto_cdo_a5 as iva_neto_cdo_a5_rem,rem.prop_neto_cdo_a5 as prop_neto_cdo_a5_rem,\\\n",
    "                  rem.total_cont as total_cont_rem,rem.prop_total_cont as prop_total_cont_rem,\\\n",
    "                  fm01.iva_neto_cdo_a1 as iva_neto_cdo_a1_fm01,fm01.prop_neto_cdo_a1 as prop_neto_cdo_a1_fm01,\\\n",
    "                  fm01.iva_neto_cdo_a2 as iva_neto_cdo_a2_fm01,fm01.prop_neto_cdo_a2 as prop_neto_cdo_a2_fm01,\\\n",
    "                  fm01.iva_neto_cdo_a3 as iva_neto_cdo_a3_fm01,fm01.prop_neto_cdo_a3 as prop_neto_cdo_a3_fm01,\\\n",
    "                  fm01.iva_neto_cdo_a4 as iva_neto_cdo_a4_fm01,fm01.prop_neto_cdo_a4 as prop_neto_cdo_a4_fm01,\\\n",
    "                  fm01.iva_neto_cdo_a5 as iva_neto_cdo_a5_fm01,fm01.prop_neto_cdo_a5 as prop_neto_cdo_a5_fm01,\\\n",
    "                  fm01.total_cont as total_cont_fm01,fm01.prop_total_cont as prop_total_cont_fm01, tr.c_537,\\\n",
    "                  ed30.iva_neto_cdo_a1 as iva_neto_cdo_a1_ed30,ed30.prop_neto_cdo_a1 as prop_neto_cdo_a1_ed30,\\\n",
    "                  ed30.iva_neto_cdo_a2 as iva_neto_cdo_a2_ed30,ed30.prop_neto_cdo_a2 as prop_neto_cdo_a2_ed30,\\\n",
    "                  ed30.iva_neto_cdo_a3 as iva_neto_cdo_a3_ed30,ed30.prop_neto_cdo_a3 as prop_neto_cdo_a3_ed30,\\\n",
    "                  ed30.iva_neto_cdo_a4 as iva_neto_cdo_a4_ed30,ed30.prop_neto_cdo_a4 as prop_neto_cdo_a4_ed30,\\\n",
    "                  ed30.iva_neto_cdo_a5 as iva_neto_cdo_a5_ed30,ed30.prop_neto_cdo_a5 as prop_neto_cdo_a5_ed30,\\\n",
    "                  ed30.total_cont as total_cont_ed30,ed30.prop_total_cont as prop_total_cont_ed30\\\n",
    "           from tmp_receptores as tr\\\n",
    "           left join tmp_resultado_resumen as tal on tr.receptor = tal.receptor \\\n",
    "                                                and tr.dcv_ptributario = tal.dcv_ptributario and (coalesce(tal.origen_a1,0) = 2 or\\\n",
    "                                                                                coalesce(tal.origen_a2,0) = 2 or\\\n",
    "                                                                                coalesce(tal.origen_a3,0) = 2 or \\\n",
    "                                                                                coalesce(tal.origen_a4,0) = 2 or\\\n",
    "                                                                                coalesce(tal.origen_a5,0) = 2 )\\\n",
    "           left join tmp_resultado_resumen as ce on tr.receptor = ce.receptor \\\n",
    "                                                and tr.dcv_ptributario = ce.dcv_ptributario and (coalesce(ce.origen_a1,0) =3 or\\\n",
    "                                                                                coalesce(ce.origen_a2,0) =3 or\\\n",
    "                                                                                coalesce(ce.origen_a3,0) =3 or\\\n",
    "                                                                                coalesce(ce.origen_a4,0) =3 or\\\n",
    "                                                                                coalesce(ce.origen_a5,0) = 3 )\\\n",
    "           left join tmp_resultado_resumen as nd on tr.receptor = nd.receptor \\\n",
    "                                                 and tr.dcv_ptributario = nd.dcv_ptributario and (coalesce(nd.origen_a1,0) = 1 or\\\n",
    "                                                                               coalesce(nd.origen_a2,0) = 1 or\\\n",
    "                                                                               coalesce(nd.origen_a3,0) = 1 or\\\n",
    "                                                                               coalesce(nd.origen_a4,0) = 1 or\\\n",
    "                                                                               coalesce(nd.origen_a5,0) = 1)\\\n",
    "           left join tmp_resultado_resumen as w08 on tr.receptor = w08.receptor \\\n",
    "                                                 and tr.dcv_ptributario = w08.dcv_ptributario and (coalesce(w08.origen_a1,0) = 4 or\\\n",
    "                                                                               coalesce(w08.origen_a2,0) = 4 or\\\n",
    "                                                                               coalesce(w08.origen_a3,0) = 4 or\\\n",
    "                                                                               coalesce(w08.origen_a4,0) = 4 or\\\n",
    "                                                                               coalesce(w08.origen_a5,0) = 4)\\\n",
    "           left join tmp_resultado_resumen as rem on tr.receptor = rem.receptor \\\n",
    "                                                 and tr.dcv_ptributario = rem.dcv_ptributario and (coalesce(rem.origen_a1,0) = 5 or\\\n",
    "                                                                               coalesce(rem.origen_a2,0) = 5 or\\\n",
    "                                                                               coalesce(rem.origen_a3,0) = 5 or\\\n",
    "                                                                               coalesce(rem.origen_a4,0) = 5 or\\\n",
    "                                                                               coalesce(rem.origen_a5,0) = 5)\\\n",
    "        left join tmp_resultado_resumen as ed30 on tr.receptor = ed30.receptor \\\n",
    "                                                 and tr.dcv_ptributario = ed30.dcv_ptributario and (coalesce(ed30.origen_a1,0) = 7 or\\\n",
    "                                                                               coalesce(ed30.origen_a2,0) = 7 or\\\n",
    "                                                                               coalesce(ed30.origen_a3,0) = 7 or\\\n",
    "                                                                               coalesce(ed30.origen_a4,0) = 7 or\\\n",
    "                                                                               coalesce(ed30.origen_a5,0) = 7)\\\n",
    "           left join tmp_resultado_resumen as fm01 on tr.receptor = fm01.receptor \\\n",
    "                                                 and tr.dcv_ptributario = fm01.dcv_ptributario and (coalesce(fm01.origen_a1,0) = 6 or\\\n",
    "                                                                               coalesce(fm01.origen_a2,0) = 6 or\\\n",
    "                                                                               coalesce(fm01.origen_a3,0) = 6 or\\\n",
    "                                                                               coalesce(fm01.origen_a4,0) = 6 or\\\n",
    "                                                                               coalesce(fm01.origen_a5,0) = 6)\")\n",
    "\n",
    "#df.registerTempTable('tmp_receptores_resultado')\n",
    "df.write.mode('overwrite').format(\"parquet\").save(\"abfs://data@datalakesii.dfs.core.windows.net/DatosOrigen/lr-629/iva_credito/intermedia/iva_receptores_result\")"
   ]
  },
  {
   "cell_type": "code",
   "execution_count": 73,
   "id": "fbf9775e-8d93-4346-894e-315231b03e7f",
   "metadata": {
    "tags": []
   },
   "outputs": [
    {
     "name": "stdout",
     "output_type": "stream",
     "text": [
      "tmp_receptores_resultado ok\n"
     ]
    }
   ],
   "source": [
    "spark.read.parquet(\"abfs://data@datalakesii.dfs.core.windows.net/DatosOrigen/lr-629/iva_credito/intermedia/iva_receptores_result\").registerTempTable('tmp_receptores_resultado')\n",
    "\n",
    "print(\"tmp_receptores_resultado ok\")"
   ]
  },
  {
   "cell_type": "code",
   "execution_count": 74,
   "id": "c3fa1010-9ff5-4965-bdf1-477a3670f7c6",
   "metadata": {
    "tags": []
   },
   "outputs": [
    {
     "name": "stderr",
     "output_type": "stream",
     "text": [
      "                                                                                \r"
     ]
    }
   ],
   "source": [
    "#spark.sql(\"select * from tmp_receptores_resultado\").show()\n",
    "\n",
    "                  # iva_neto_cdo_a1_al,prop_neto_cdo_a1_al,\\\n",
    "                  # iva_neto_cdo_a2_al,prop_neto_cdo_a2_al,iva_neto_cdo_a3_al,prop_neto_cdo_a3_al,\\\n",
    "                  # iva_neto_cdo_a4_al,prop_neto_cdo_a4_al,iva_neto_cdo_a5_al,prop_neto_cdo_a5_al,\\\n",
    "                  # total_cont_al,prop_total_cont_al,iva_neto_cdo_a1_nd,prop_neto_cdo_a1_nd,iva_neto_cdo_a2_nd,\\\n",
    "                  # prop_neto_cdo_a2_nd,iva_neto_cdo_a3_nd,prop_neto_cdo_a3_nd,iva_neto_cdo_a4_nd,\\\n",
    "                  # prop_neto_cdo_a4_nd,iva_neto_cdo_a5_nd,prop_neto_cdo_a5_nd,total_cont_nd,\\\n",
    "                  # prop_total_cont_nd,iva_neto_cdo_a1_ce,prop_neto_cdo_a1_ce,iva_neto_cdo_a2_ce,\\\n",
    "                  # prop_neto_cdo_a2_ce,iva_neto_cdo_a3_ce,prop_neto_cdo_a3_ce,iva_neto_cdo_a4_ce,\\\n",
    "                  # prop_neto_cdo_a4_ce,iva_neto_cdo_a5_ce,prop_neto_cdo_a5_ce,total_cont_ce,prop_total_cont_ce,\\\n",
    "                  # iva_neto_cdo_a1_w08,prop_neto_cdo_a1_w08,iva_neto_cdo_a2_w08,prop_neto_cdo_a2_w08,\\\n",
    "                  # iva_neto_cdo_a3_w08,prop_neto_cdo_a3_w08,iva_neto_cdo_a4_w08,prop_neto_cdo_a4_w08,\\\n",
    "                  # iva_neto_cdo_a5_w08,prop_neto_cdo_a5_w08,total_cont_w08,prop_total_cont_w08,\\\n",
    "                  # iva_neto_cdo_a1_rem, prop_neto_cdo_a1_rem, iva_neto_cdo_a2_rem, prop_neto_cdo_a2_rem,\\\n",
    "                  # iva_neto_cdo_a3_rem, prop_neto_cdo_a3_rem, iva_neto_cdo_a4_rem, prop_neto_cdo_a4_rem,\\\n",
    "                  # iva_neto_cdo_a5_rem, prop_neto_cdo_a5_rem, total_cont_rem, prop_total_cont_rem,\\\n",
    "                  # iva_neto_cdo_a1_fm01, prop_neto_cdo_a1_fm01, iva_neto_cdo_a2_fm01,prop_neto_cdo_a2_fm01,\\\n",
    "                  # iva_neto_cdo_a3_fm01, prop_neto_cdo_a3_fm01, iva_neto_cdo_a4_fm01,prop_neto_cdo_a4_fm01,\\\n",
    "                  # iva_neto_cdo_a5_fm01, prop_neto_cdo_a5_fm01, total_cont_fm01, prop_total_cont_fm01,\\\n",
    "                  # iva_neto_cdo_a1_an,\\\n",
    "                  # prop_neto_cdo_a1_an,iva_neto_cdo_a2_an,prop_neto_cdo_a2_an,iva_neto_cdo_a3_an,prop_neto_cdo_a3_an,\\\n",
    "                  # iva_neto_cdo_a4_an,prop_neto_cdo_a4_an,iva_neto_cdo_a5_an,prop_neto_cdo_a5_an,total_cont_an,\\\n",
    "                  # prop_total_cont_an,c_537,\\\n",
    "                  # created,user\\\n",
    "\n",
    "df=spark.sql(\"select *,\\\n",
    "                    coalesce(iva_neto_cdo_a1_al,0)+coalesce(iva_neto_cdo_a1_rem,0)+coalesce(iva_neto_cdo_a1_nd,0)+coalesce(iva_neto_cdo_a1_w08,0)+coalesce(iva_neto_cdo_a1_fm01,0)+coalesce(iva_neto_cdo_a1_ed30,0) as iva_neto_cdo_a1_an,\\\n",
    "                    coalesce(iva_neto_cdo_a2_al,0)+coalesce(iva_neto_cdo_a2_rem,0)+coalesce(iva_neto_cdo_a2_nd,0)+coalesce(iva_neto_cdo_a2_w08,0)+coalesce(iva_neto_cdo_a2_fm01,0)+coalesce(iva_neto_cdo_a2_ed30,0) as iva_neto_cdo_a2_an,\\\n",
    "                    coalesce(iva_neto_cdo_a3_al,0)+coalesce(iva_neto_cdo_a3_rem,0)+coalesce(iva_neto_cdo_a3_nd,0)+coalesce(iva_neto_cdo_a3_w08,0)+coalesce(iva_neto_cdo_a3_fm01,0)+coalesce(iva_neto_cdo_a3_ed30,0) as iva_neto_cdo_a3_an,\\\n",
    "                    coalesce(iva_neto_cdo_a4_al,0)+coalesce(iva_neto_cdo_a4_rem,0)+coalesce(iva_neto_cdo_a4_nd,0)+coalesce(iva_neto_cdo_a4_w08,0)+coalesce(iva_neto_cdo_a4_fm01,0)+coalesce(iva_neto_cdo_a4_ed30,0) as iva_neto_cdo_a4_an,\\\n",
    "                    coalesce(iva_neto_cdo_a5_al,0)+coalesce(iva_neto_cdo_a5_rem,0)+coalesce(iva_neto_cdo_a5_nd,0)+coalesce(iva_neto_cdo_a5_w08,0)+coalesce(iva_neto_cdo_a5_fm01,0)+coalesce(iva_neto_cdo_a5_ed30,0) as iva_neto_cdo_a5_an,\\\n",
    "                    coalesce(prop_neto_cdo_a1_al,0)+coalesce(prop_neto_cdo_a1_rem,0)+coalesce(prop_neto_cdo_a1_nd,0)+coalesce(prop_neto_cdo_a1_w08,0)+coalesce(prop_neto_cdo_a1_fm01,0)+coalesce(prop_neto_cdo_a1_ed30,0) as prop_neto_cdo_a1_an,\\\n",
    "                    coalesce(prop_neto_cdo_a2_al,0)+coalesce(prop_neto_cdo_a2_rem,0)+coalesce(prop_neto_cdo_a2_nd,0)+coalesce(prop_neto_cdo_a2_w08,0)+coalesce(prop_neto_cdo_a2_fm01,0)+coalesce(prop_neto_cdo_a2_ed30,0) as prop_neto_cdo_a2_an,\\\n",
    "                    coalesce(prop_neto_cdo_a3_al,0)+coalesce(prop_neto_cdo_a3_rem,0)+coalesce(prop_neto_cdo_a3_nd,0)+coalesce(prop_neto_cdo_a3_w08,0)+coalesce(prop_neto_cdo_a3_fm01,0)+coalesce(prop_neto_cdo_a3_ed30,0) as prop_neto_cdo_a3_an,\\\n",
    "                    coalesce(prop_neto_cdo_a4_al,0)+coalesce(prop_neto_cdo_a4_rem,0)+coalesce(prop_neto_cdo_a4_nd,0)+coalesce(prop_neto_cdo_a4_w08,0)+coalesce(prop_neto_cdo_a4_fm01,0)+coalesce(prop_neto_cdo_a4_ed30,0) as prop_neto_cdo_a4_an,\\\n",
    "                    coalesce(prop_neto_cdo_a5_al,0)+coalesce(prop_neto_cdo_a5_rem,0)+coalesce(prop_neto_cdo_a5_nd,0)+coalesce(prop_neto_cdo_a5_w08,0)+coalesce(prop_neto_cdo_a5_fm01,0)+coalesce(prop_neto_cdo_a5_ed30,0) as prop_neto_cdo_a5_an\\\n",
    "             from tmp_receptores_resultado\")\n",
    "\n",
    "df.write.mode('overwrite').format(\"parquet\").save(\"abfs://data@datalakesii.dfs.core.windows.net/DatosOrigen/lr-629/iva_credito/intermedia/iva_receptores_result2\")"
   ]
  },
  {
   "cell_type": "code",
   "execution_count": 75,
   "id": "6299f7f3-286c-46b0-8533-42456fd64f31",
   "metadata": {
    "tags": []
   },
   "outputs": [
    {
     "name": "stdout",
     "output_type": "stream",
     "text": [
      "tmp_receptores_resultado2 ok\n"
     ]
    }
   ],
   "source": [
    "spark.read.parquet(\"abfs://data@datalakesii.dfs.core.windows.net/DatosOrigen/lr-629/iva_credito/intermedia/iva_receptores_result2\").registerTempTable('tmp_receptores_resultado2')\n",
    "\n",
    "print(\"tmp_receptores_resultado2 ok\")"
   ]
  },
  {
   "cell_type": "code",
   "execution_count": 76,
   "id": "e9632fde-01ad-4ae4-8b8c-8c59ecb9fb38",
   "metadata": {
    "tags": []
   },
   "outputs": [],
   "source": [
    "# tmp_receptores_resultado2"
   ]
  },
  {
   "cell_type": "code",
   "execution_count": 77,
   "id": "b0223e0d-1491-43e4-817a-77c68b726ecb",
   "metadata": {
    "tags": []
   },
   "outputs": [
    {
     "name": "stderr",
     "output_type": "stream",
     "text": [
      "                                                                                \r"
     ]
    }
   ],
   "source": [
    "##@@@@\n",
    "df=spark.sql(\"select *, \\\n",
    "                    coalesce(iva_neto_cdo_a1_an,0) + coalesce(iva_neto_cdo_a2_an,0)+coalesce(iva_neto_cdo_a3_an,0)+\\\n",
    "                    coalesce(iva_neto_cdo_a4_an,0)+coalesce(iva_neto_cdo_a5_an,0) as total_cont_an,\\\n",
    "                    prop_neto_cdo_a1_an+prop_neto_cdo_a2_an+prop_neto_cdo_a3_an+prop_neto_cdo_a4_an+prop_neto_cdo_a5_an as prop_total_cont_an\\\n",
    "             from tmp_receptores_resultado2\")\n",
    "\n",
    "df.write.mode('overwrite').format(\"parquet\").save(\"abfs://data@datalakesii.dfs.core.windows.net/DatosOrigen/lr-629/iva_credito/intermedia/resultado_etapa3\")"
   ]
  },
  {
   "cell_type": "code",
   "execution_count": 78,
   "id": "37ce0dfa-1989-4e87-9c52-1f3c35a0d620",
   "metadata": {
    "tags": []
   },
   "outputs": [
    {
     "name": "stdout",
     "output_type": "stream",
     "text": [
      "tmp_resultado_etapa3 ok\n"
     ]
    }
   ],
   "source": [
    "spark.read.parquet(\"abfs://data@datalakesii.dfs.core.windows.net/DatosOrigen/lr-629/iva_credito/intermedia/resultado_etapa3\").registerTempTable('tmp_resultado_etapa3')\n",
    "\n",
    "print(\"tmp_resultado_etapa3 ok\")\n",
    "\n",
    "## Saltar hasta @@@"
   ]
  },
  {
   "cell_type": "code",
   "execution_count": 79,
   "id": "ec85569a-5ee5-479b-91e1-435d36f54d40",
   "metadata": {
    "tags": []
   },
   "outputs": [],
   "source": [
    "#@@@\n",
    "if exists_hist==1:\n",
    "    # ACtualización de datos históricos\n",
    "    # 2. Se crea temporal excluyendo los periodos en procesamiento (de parámtros)\n",
    "    df=spark.sql(f\"select * \\\n",
    "              from tmp_historico \\\n",
    "              where dcv_ptributario not in ({Periodo})\")\n",
    "             \n",
    "    df.write.mode('overwrite').format(\"parquet\").save(\"abfs://data@datalakesii.dfs.core.windows.net/DatosOrigen/lr-629/iva_credito/intermedia/hist_parcial\")\n"
   ]
  },
  {
   "cell_type": "code",
   "execution_count": 80,
   "id": "6aebba62-a056-4918-84ae-06f0b88c4e08",
   "metadata": {
    "tags": []
   },
   "outputs": [],
   "source": [
    "if exists_hist==1:\n",
    "    spark.read.parquet(\"abfs://data@datalakesii.dfs.core.windows.net/DatosOrigen/lr-629/iva_credito/intermedia/hist_parcial\").registerTempTable('tmp_hist_parcial')\n",
    "    print(\"lectura de tmp_historico parcial ok\")"
   ]
  },
  {
   "cell_type": "code",
   "execution_count": 81,
   "id": "bf9a667a-db25-4b10-8a1a-fcbbd4642ea9",
   "metadata": {
    "tags": []
   },
   "outputs": [
    {
     "name": "stderr",
     "output_type": "stream",
     "text": [
      "                                                                                \r"
     ]
    },
    {
     "name": "stdout",
     "output_type": "stream",
     "text": [
      "nueva version de tmp_historico ok\n"
     ]
    }
   ],
   "source": [
    "if exists_hist==1:\n",
    "    df=spark.sql(\"select dcv_ptributario,receptor,f29_neto_reci,\\\n",
    "                  iva_neto_cdo_a1_al,prop_neto_cdo_a1_al,\\\n",
    "                  iva_neto_cdo_a2_al,prop_neto_cdo_a2_al,iva_neto_cdo_a3_al,prop_neto_cdo_a3_al,\\\n",
    "                  iva_neto_cdo_a4_al,prop_neto_cdo_a4_al,iva_neto_cdo_a5_al,prop_neto_cdo_a5_al,\\\n",
    "                  total_cont_al,prop_total_cont_al,iva_neto_cdo_a1_nd,prop_neto_cdo_a1_nd,iva_neto_cdo_a2_nd,\\\n",
    "                  prop_neto_cdo_a2_nd,iva_neto_cdo_a3_nd,prop_neto_cdo_a3_nd,iva_neto_cdo_a4_nd,\\\n",
    "                  prop_neto_cdo_a4_nd,iva_neto_cdo_a5_nd,prop_neto_cdo_a5_nd,total_cont_nd,\\\n",
    "                  prop_total_cont_nd,iva_neto_cdo_a1_ce,prop_neto_cdo_a1_ce,iva_neto_cdo_a2_ce,\\\n",
    "                  prop_neto_cdo_a2_ce,iva_neto_cdo_a3_ce,prop_neto_cdo_a3_ce,iva_neto_cdo_a4_ce,\\\n",
    "                  prop_neto_cdo_a4_ce,iva_neto_cdo_a5_ce,prop_neto_cdo_a5_ce,total_cont_ce,prop_total_cont_ce,\\\n",
    "                  iva_neto_cdo_a1_w08,prop_neto_cdo_a1_w08,iva_neto_cdo_a2_w08,prop_neto_cdo_a2_w08,\\\n",
    "                  iva_neto_cdo_a3_w08,prop_neto_cdo_a3_w08,iva_neto_cdo_a4_w08,prop_neto_cdo_a4_w08,\\\n",
    "                  iva_neto_cdo_a5_w08,prop_neto_cdo_a5_w08,total_cont_w08,prop_total_cont_w08,\\\n",
    "                  iva_neto_cdo_a1_ad30,prop_neto_cdo_a1_ad30,iva_neto_cdo_a2_ad30,prop_neto_cdo_a2_ad30,\\\n",
    "                  iva_neto_cdo_a3_ad30,prop_neto_cdo_a3_ad30,iva_neto_cdo_a4_ad30,prop_neto_cdo_a4_ad30,\\\n",
    "                  iva_neto_cdo_a5_ad30,prop_neto_cdo_a5_ad30,total_cont_ad30,prop_total_cont_ad30,\\\n",
    "                  iva_neto_cdo_a1_rem, prop_neto_cdo_a1_rem, iva_neto_cdo_a2_rem, prop_neto_cdo_a2_rem,\\\n",
    "                  iva_neto_cdo_a3_rem, prop_neto_cdo_a3_rem, iva_neto_cdo_a4_rem, prop_neto_cdo_a4_rem,\\\n",
    "                  iva_neto_cdo_a5_rem, prop_neto_cdo_a5_rem, total_cont_rem, prop_total_cont_rem,\\\n",
    "                  iva_neto_cdo_a1_fm01, prop_neto_cdo_a1_fm01, iva_neto_cdo_a2_fm01,prop_neto_cdo_a2_fm01,\\\n",
    "                  iva_neto_cdo_a3_fm01, prop_neto_cdo_a3_fm01, iva_neto_cdo_a4_fm01,prop_neto_cdo_a4_fm01,\\\n",
    "                  iva_neto_cdo_a5_fm01, prop_neto_cdo_a5_fm01, total_cont_fm01, prop_total_cont_fm01,\\\n",
    "                  iva_neto_cdo_a1_an,\\\n",
    "                  prop_neto_cdo_a1_an,iva_neto_cdo_a2_an,prop_neto_cdo_a2_an,iva_neto_cdo_a3_an,prop_neto_cdo_a3_an,\\\n",
    "                  iva_neto_cdo_a4_an,prop_neto_cdo_a4_an,iva_neto_cdo_a5_an,prop_neto_cdo_a5_an,total_cont_an,\\\n",
    "                  prop_total_cont_an,c_537,\\\n",
    "                  created,user\\\n",
    "              from tmp_hist_parcial\\\n",
    "           union\\\n",
    "           select dcv_ptributario,receptor,f29_neto_reci,iva_neto_cdo_a1_al,prop_neto_cdo_a1_al,\\\n",
    "                  iva_neto_cdo_a2_al,prop_neto_cdo_a2_al,iva_neto_cdo_a3_al,prop_neto_cdo_a3_al,\\\n",
    "                  iva_neto_cdo_a4_al,prop_neto_cdo_a4_al,iva_neto_cdo_a5_al,prop_neto_cdo_a5_al,\\\n",
    "                  total_cont_al,prop_total_cont_al,iva_neto_cdo_a1_nd,prop_neto_cdo_a1_nd,iva_neto_cdo_a2_nd,\\\n",
    "                  prop_neto_cdo_a2_nd,iva_neto_cdo_a3_nd,prop_neto_cdo_a3_nd,iva_neto_cdo_a4_nd,\\\n",
    "                  prop_neto_cdo_a4_nd,iva_neto_cdo_a5_nd,prop_neto_cdo_a5_nd,total_cont_nd,\\\n",
    "                  prop_total_cont_nd,iva_neto_cdo_a1_ce,prop_neto_cdo_a1_ce,iva_neto_cdo_a2_ce,\\\n",
    "                  prop_neto_cdo_a2_ce,iva_neto_cdo_a3_ce,prop_neto_cdo_a3_ce,iva_neto_cdo_a4_ce,\\\n",
    "                  prop_neto_cdo_a4_ce,iva_neto_cdo_a5_ce,prop_neto_cdo_a5_ce,total_cont_ce,prop_total_cont_ce,\\\n",
    "                  iva_neto_cdo_a1_w08,prop_neto_cdo_a1_w08,iva_neto_cdo_a2_w08,prop_neto_cdo_a2_w08,\\\n",
    "                  iva_neto_cdo_a3_w08,prop_neto_cdo_a3_w08,iva_neto_cdo_a4_w08,prop_neto_cdo_a4_w08,\\\n",
    "                  iva_neto_cdo_a5_w08,prop_neto_cdo_a5_w08,total_cont_w08,prop_total_cont_w08,\\\n",
    "                  iva_neto_cdo_a1_ad30,prop_neto_cdo_a1_ad30,iva_neto_cdo_a2_ad30,prop_neto_cdo_a2_ad30,\\\n",
    "                  iva_neto_cdo_a3_ad30,prop_neto_cdo_a3_ad30,iva_neto_cdo_a4_ad30,prop_neto_cdo_a4_ad30,\\\n",
    "                  iva_neto_cdo_a5_ad30,prop_neto_cdo_a5_ad30,total_cont_ad30,prop_total_cont_ad30,\\\n",
    "                  iva_neto_cdo_a1_rem,prop_neto_cdo_a1_rem,iva_neto_cdo_a2_rem,prop_neto_cdo_a2_rem,\\\n",
    "                  iva_neto_cdo_a3_rem,prop_neto_cdo_a3_rem,iva_neto_cdo_a4_rem,prop_neto_cdo_a4_rem,\\\n",
    "                  iva_neto_cdo_a5_rem,prop_neto_cdo_a5_rem,total_cont_rem,prop_total_cont_rem,\\\n",
    "                  iva_neto_cdo_a1_fm01, prop_neto_cdo_a1_fm01, iva_neto_cdo_a2_fm01, prop_neto_cdo_a2_fm01,\\\n",
    "                  iva_neto_cdo_a3_fm01, prop_neto_cdo_a3_fm01, iva_neto_cdo_a4_fm01, prop_neto_cdo_a4_fm01,\\\n",
    "                  iva_neto_cdo_a5_fm01, prop_neto_cdo_a5_fm01, total_cont_fm01, prop_total_cont_fm01,\\\n",
    "                  iva_neto_cdo_a1_an,\\\n",
    "                  prop_neto_cdo_a1_an,iva_neto_cdo_a2_an,prop_neto_cdo_a2_an,iva_neto_cdo_a3_an,prop_neto_cdo_a3_an,\\\n",
    "                  iva_neto_cdo_a4_an,prop_neto_cdo_a4_an,iva_neto_cdo_a5_an,prop_neto_cdo_a5_an,total_cont_an,\\\n",
    "                  prop_total_cont_an,c_537,\\\n",
    "                  current_timestamp,current_user()\\\n",
    "              from tmp_resultado_etapa3\")\n",
    "\n",
    "if exists_hist==0:\n",
    "    df=spark.sql(\"select dcv_ptributario,receptor,f29_neto_reci,iva_neto_cdo_a1_al,prop_neto_cdo_a1_al,\\\n",
    "                  iva_neto_cdo_a2_al,prop_neto_cdo_a2_al,iva_neto_cdo_a3_al,prop_neto_cdo_a3_al,\\\n",
    "                  iva_neto_cdo_a4_al,prop_neto_cdo_a4_al,iva_neto_cdo_a5_al,prop_neto_cdo_a5_al,\\\n",
    "                  total_cont_al,prop_total_cont_al,iva_neto_cdo_a1_nd,prop_neto_cdo_a1_nd,iva_neto_cdo_a2_nd,\\\n",
    "                  prop_neto_cdo_a2_nd,iva_neto_cdo_a3_nd,prop_neto_cdo_a3_nd,iva_neto_cdo_a4_nd,\\\n",
    "                  prop_neto_cdo_a4_nd,iva_neto_cdo_a5_nd,prop_neto_cdo_a5_nd,total_cont_nd,\\\n",
    "                  prop_total_cont_nd,iva_neto_cdo_a1_ce,prop_neto_cdo_a1_ce,iva_neto_cdo_a2_ce,\\\n",
    "                  prop_neto_cdo_a2_ce,iva_neto_cdo_a3_ce,prop_neto_cdo_a3_ce,iva_neto_cdo_a4_ce,\\\n",
    "                  prop_neto_cdo_a4_ce,iva_neto_cdo_a5_ce,prop_neto_cdo_a5_ce,total_cont_ce,prop_total_cont_ce,\\\n",
    "                  iva_neto_cdo_a1_w08,prop_neto_cdo_a1_w08,iva_neto_cdo_a2_w08,prop_neto_cdo_a2_w08,\\\n",
    "                  iva_neto_cdo_a3_w08,prop_neto_cdo_a3_w08,iva_neto_cdo_a4_w08,prop_neto_cdo_a4_w08,\\\n",
    "                  iva_neto_cdo_a5_w08,prop_neto_cdo_a5_w08,total_cont_w08,prop_total_cont_w08,\\\n",
    "                  iva_neto_cdo_a1_ed30,prop_neto_cdo_a1_ed30,iva_neto_cdo_a2_ed30,prop_neto_cdo_a2_ed30,\\\n",
    "                  iva_neto_cdo_a3_ed30,prop_neto_cdo_a3_ed30,iva_neto_cdo_a4_ed30,prop_neto_cdo_a4_ed30,\\\n",
    "                  iva_neto_cdo_a5_ed30,prop_neto_cdo_a5_ed30,total_cont_ed30,prop_total_cont_ed30,\\\n",
    "                  iva_neto_cdo_a1_rem,prop_neto_cdo_a1_rem,iva_neto_cdo_a2_rem,prop_neto_cdo_a2_rem,\\\n",
    "                  iva_neto_cdo_a3_rem,prop_neto_cdo_a3_rem,iva_neto_cdo_a4_rem,prop_neto_cdo_a4_rem,\\\n",
    "                  iva_neto_cdo_a5_rem,prop_neto_cdo_a5_rem,total_cont_rem,prop_total_cont_rem,\\\n",
    "                  iva_neto_cdo_a1_fm01, prop_neto_cdo_a1_fm01, iva_neto_cdo_a2_fm01, prop_neto_cdo_a2_fm01,\\\n",
    "                  iva_neto_cdo_a3_fm01, prop_neto_cdo_a3_fm01, iva_neto_cdo_a4_fm01, prop_neto_cdo_a4_fm01,\\\n",
    "                  iva_neto_cdo_a5_fm01, prop_neto_cdo_a5_fm01, total_cont_fm01, prop_total_cont_fm01,\\\n",
    "                  iva_neto_cdo_a1_an,\\\n",
    "                  prop_neto_cdo_a1_an,iva_neto_cdo_a2_an,prop_neto_cdo_a2_an,iva_neto_cdo_a3_an,prop_neto_cdo_a3_an,\\\n",
    "                  iva_neto_cdo_a4_an,prop_neto_cdo_a4_an,iva_neto_cdo_a5_an,prop_neto_cdo_a5_an,total_cont_an,\\\n",
    "                  prop_total_cont_an,c_537,\\\n",
    "                  current_timestamp as created,current_user() as user\\\n",
    "              from tmp_resultado_etapa3\")\n",
    "\n",
    "df.write.mode('overwrite').format(\"parquet\").save(\"abfs://data@datalakesii.dfs.core.windows.net/DatosOrigen/lr-629/iva_credito/intermedia/historico_updated\")\n",
    "print(\"nueva version de tmp_historico ok\")"
   ]
  },
  {
   "cell_type": "code",
   "execution_count": 82,
   "id": "3faf1bb8-4a5b-47df-8324-d58e1635a2e7",
   "metadata": {
    "tags": []
   },
   "outputs": [],
   "source": [
    "spark.read.parquet(\"abfs://data@datalakesii.dfs.core.windows.net/DatosOrigen/lr-629/iva_credito/intermedia/historico_updated\").registerTempTable('tmp_historico')\n"
   ]
  },
  {
   "cell_type": "code",
   "execution_count": 83,
   "id": "701ec923-223f-4612-af35-ab6dda5f09df",
   "metadata": {
    "tags": []
   },
   "outputs": [],
   "source": [
    "if exists_hist!=0:\n",
    "    for i, arg in enumerate(sys.argv[1:], start=1):\n",
    "            Periodo = arg\n",
    "            print(\"Extrayendo Resultado Periodo: \", Periodo)\n",
    "            #df=spark.sql(f\"select * \\\n",
    "            #               from tmp_resultado_etapa3 \\\n",
    "            #               where dcv_ptributario = '{Periodo}'\")\n",
    "\n",
    "            df=spark.sql(f\"select t1.dcv_ptributario, t1.receptor, f29_neto_reci,\\\n",
    "                                  t2.periodo_ant, \\\n",
    "                                  t2.f29_77_ant, t2.prop_total_cont_an_ant,t2.prop_remanente_cont as remanente_cont,\\\n",
    "                                  t3.F29_c_504,\\\n",
    "                                  iva_neto_cdo_a1_rem,prop_neto_cdo_a1_rem,\\\n",
    "                                  iva_neto_cdo_a2_rem,prop_neto_cdo_a2_rem,\\\n",
    "                                  iva_neto_cdo_a3_rem,prop_neto_cdo_a3_rem,\\\n",
    "                                  iva_neto_cdo_a4_rem,prop_neto_cdo_a4_rem,\\\n",
    "                                  iva_neto_cdo_a5_rem,prop_neto_cdo_a5_rem,\\\n",
    "                                  total_cont_rem,prop_total_cont_rem \\\n",
    "                           from tmp_resultado_etapa3 as t1\\\n",
    "                           left join tmp_remanente_ant as t2 on t1.receptor = t2.receptor\\\n",
    "                           left join tmp_f29 as t3 on t1.receptor = t3.cont_rut\\\n",
    "                           where dcv_ptributario = '{Periodo}'\")        \n",
    "            pd=df.toPandas()\n",
    "            pd.to_csv('data/iva_remanente/IVA_Credito'+Periodo+'.csv',index=False)\n",
    "\n",
    "    print(\"Extracción de Archivo ok\")\n"
   ]
  },
  {
   "cell_type": "code",
   "execution_count": 84,
   "id": "845816e9-68ba-4132-ba14-0139b2802b07",
   "metadata": {
    "tags": []
   },
   "outputs": [],
   "source": [
    "####################################################################################\n",
    "################### INICIO Tratamiento de Remanente histórico ######################\n",
    "####################################################################################"
   ]
  },
  {
   "cell_type": "code",
   "execution_count": 85,
   "id": "ccfa6a4b-e5a3-4bae-b8ba-78f19978efe5",
   "metadata": {},
   "outputs": [
    {
     "name": "stdout",
     "output_type": "stream",
     "text": [
      "*****Inicio de Proceso de Mantención de Remanente Histórico*****\n"
     ]
    }
   ],
   "source": [
    "print(\"*****Inicio de Proceso de Mantención de Remanente Histórico*****\")"
   ]
  },
  {
   "cell_type": "code",
   "execution_count": 86,
   "id": "6e8f45e7-22aa-4a4b-95b6-bb39532f19ed",
   "metadata": {
    "tags": []
   },
   "outputs": [
    {
     "name": "stdout",
     "output_type": "stream",
     "text": [
      "El archivo no está disponible en la ruta especificada.\n"
     ]
    }
   ],
   "source": [
    "#tmp_historico: Carga de REsultados histórico\n",
    "try:\n",
    "    spark.read.parquet(\"abfs://data@datalakesii.dfs.core.windows.net/DatosOrigen/lr-629/iva_credito/intermedia/remanente_hist_updated\")\\\n",
    "     .registerTempTable('tmp_remanente_hist')\n",
    "    print(\"Archivo cargado y tabla temporal registrada exitosamente.\")\n",
    "    exists_rema_hist=1\n",
    "except AnalysisException as e:\n",
    "    if 'Path does not exist' in str(e):\n",
    "        print(\"El archivo no está disponible en la ruta especificada.\")\n",
    "        exists_rema_hist=0\n",
    "    else:\n",
    "        print(\"Ocurrió un error al intentar leer el archivo:\", str(e))\n",
    "     \n",
    "    # Lectura de Remanente Histórico\n"
   ]
  },
  {
   "cell_type": "code",
   "execution_count": 87,
   "id": "102f42a9-33fb-4160-9877-98a8802f0bbb",
   "metadata": {
    "tags": []
   },
   "outputs": [
    {
     "name": "stderr",
     "output_type": "stream",
     "text": [
      "                                                                                \r"
     ]
    }
   ],
   "source": [
    "# ##############################################################################################################\n",
    "# ############ Porción de Código para recrear Remanente Histórico en caso de pérdida del Archivo ###############\n",
    "# ##############################################################################################################\n",
    "\n",
    "   \n",
    "# Priodo = 202108\n",
    "df=spark.sql(f\"select t1.dcv_ptributario, t1.receptor, f29_neto_reci,\\\n",
    "                  t2.periodo_ant, \\\n",
    "                  t2.f29_77_ant, t2.prop_total_cont_an_ant,t2.prop_remanente_cont as remanente_cont,\\\n",
    "                  t2.F29_c_504,\\\n",
    "                  iva_neto_cdo_a1_rem,prop_neto_cdo_a1_rem,\\\n",
    "                  iva_neto_cdo_a2_rem,prop_neto_cdo_a2_rem,\\\n",
    "                  iva_neto_cdo_a3_rem,prop_neto_cdo_a3_rem,\\\n",
    "                  iva_neto_cdo_a4_rem,prop_neto_cdo_a4_rem,\\\n",
    "                  iva_neto_cdo_a5_rem,prop_neto_cdo_a5_rem,\\\n",
    "                  total_cont_rem,prop_total_cont_rem,\\\n",
    "                  iva_neto_cdo_a1_nd,prop_neto_cdo_a1_nd,\\\n",
    "                  iva_neto_cdo_a2_nd,prop_neto_cdo_a2_nd,\\\n",
    "                  iva_neto_cdo_a3_nd,prop_neto_cdo_a3_nd,\\\n",
    "                  iva_neto_cdo_a4_nd,prop_neto_cdo_a4_nd,\\\n",
    "                  iva_neto_cdo_a5_nd,prop_neto_cdo_a5_nd,\\\n",
    "                  total_cont_nd,prop_total_cont_nd,\\\n",
    "                  iva_neto_cdo_a1_al,prop_neto_cdo_a1_al,\\\n",
    "                  iva_neto_cdo_a2_al,prop_neto_cdo_a2_al,\\\n",
    "                  iva_neto_cdo_a3_al,prop_neto_cdo_a3_al,\\\n",
    "                  iva_neto_cdo_a4_al,prop_neto_cdo_a4_al,\\\n",
    "                  iva_neto_cdo_a5_al,prop_neto_cdo_a5_al,\\\n",
    "                  total_cont_al,prop_total_cont_al,\\\n",
    "                  iva_neto_cdo_a1_w08,prop_neto_cdo_a1_w08,\\\n",
    "                  iva_neto_cdo_a2_w08,prop_neto_cdo_a2_w08,\\\n",
    "                  iva_neto_cdo_a3_w08,prop_neto_cdo_a3_w08,\\\n",
    "                  iva_neto_cdo_a4_w08,prop_neto_cdo_a4_w08,\\\n",
    "                  iva_neto_cdo_a5_w08,prop_neto_cdo_a5_w08,\\\n",
    "                  total_cont_w08,prop_total_cont_w08,\\\n",
    "                  iva_neto_cdo_a1_ed30,prop_neto_cdo_a1_ed30,\\\n",
    "                  iva_neto_cdo_a2_ed30,prop_neto_cdo_a2_ed30,\\\n",
    "                  iva_neto_cdo_a3_ed30,prop_neto_cdo_a3_ed30,\\\n",
    "                  iva_neto_cdo_a4_ed30,prop_neto_cdo_a4_ed30,\\\n",
    "                  iva_neto_cdo_a5_ed30,prop_neto_cdo_a5_ed30,\\\n",
    "                  total_cont_ed30,prop_total_cont_ed30,\\\n",
    "                  iva_neto_cdo_a1_ce,prop_neto_cdo_a1_ce,\\\n",
    "                  iva_neto_cdo_a2_ce,prop_neto_cdo_a2_ce,\\\n",
    "                  iva_neto_cdo_a3_ce,prop_neto_cdo_a3_ce,\\\n",
    "                  iva_neto_cdo_a4_ce,prop_neto_cdo_a4_ce,\\\n",
    "                  iva_neto_cdo_a5_ce,prop_neto_cdo_a5_ce,\\\n",
    "                  total_cont_ce,prop_total_cont_ce,\\\n",
    "                   iva_neto_cdo_a1_fm01,prop_neto_cdo_a1_fm01,\\\n",
    "                   iva_neto_cdo_a2_fm01,prop_neto_cdo_a2_fm01,\\\n",
    "                   iva_neto_cdo_a3_fm01,prop_neto_cdo_a3_fm01,\\\n",
    "                   iva_neto_cdo_a4_fm01,prop_neto_cdo_a4_fm01,\\\n",
    "                   iva_neto_cdo_a5_fm01,prop_neto_cdo_a5_fm01,\\\n",
    "                   total_cont_fm01,prop_total_cont_fm01,\\\n",
    "                  iva_neto_cdo_a1_an,prop_neto_cdo_a1_an,\\\n",
    "                  iva_neto_cdo_a2_an,prop_neto_cdo_a2_an,\\\n",
    "                  iva_neto_cdo_a3_an,prop_neto_cdo_a3_an,\\\n",
    "                  iva_neto_cdo_a4_an,prop_neto_cdo_a4_an,\\\n",
    "                  iva_neto_cdo_a5_an,prop_neto_cdo_a5_an,\\\n",
    "                  total_cont_an,prop_total_cont_an\\\n",
    "            from tmp_historico as t1\\\n",
    "            left join tmp_remanente_ant as t2 on t1.receptor = t2.receptor\\\n",
    "            where dcv_ptributario = '{Periodo}'\\\n",
    "            order by t1.dcv_ptributario asc\")\n",
    "\n",
    "\n",
    "df.write.mode('overwrite').format(\"parquet\").save(\"abfs://data@datalakesii.dfs.core.windows.net/DatosOrigen/lr-629/iva_credito/intermedia/remanente_hist_updated\")\n",
    "\n",
    "#Carga tabla tmp_remanente_hist_updated\n",
    "spark.read.parquet(\"abfs://data@datalakesii.dfs.core.windows.net/DatosOrigen/lr-629/iva_credito/intermedia/remanente_hist_updated\")\\\n",
    " .registerTempTable('tmp_remanente_hist')\n",
    "\n",
    "\n"
   ]
  },
  {
   "cell_type": "code",
   "execution_count": 88,
   "id": "66588016-1f3b-43f4-b4f1-f97289fd69f4",
   "metadata": {
    "tags": []
   },
   "outputs": [
    {
     "name": "stderr",
     "output_type": "stream",
     "text": [
      "                                                                                \r"
     ]
    }
   ],
   "source": [
    "### Respaldo de Remanente Histórico ###\n",
    "df=spark.sql(\"select * from tmp_remanente_hist\")\n",
    "df.write.mode('overwrite').format(\"parquet\").save(\"abfs://data@datalakesii.dfs.core.windows.net/DatosOrigen/lr-629/iva_credito/intermedia/remanente_hist_resp\")"
   ]
  },
  {
   "cell_type": "code",
   "execution_count": 89,
   "id": "6d3d1367-ee87-42ad-8ff5-3587e38ee3a8",
   "metadata": {
    "tags": []
   },
   "outputs": [],
   "source": [
    "#tmp_historico: Carga de REsultados histórico\n",
    "spark.read.parquet(\"abfs://data@datalakesii.dfs.core.windows.net/DatosOrigen/lr-629/iva_credito/intermedia/historico_updated\")\\\n",
    "          .registerTempTable('tmp_historico')"
   ]
  },
  {
   "cell_type": "code",
   "execution_count": 90,
   "id": "22e6bcb4-3df9-4f3a-8111-d68ded249d0a",
   "metadata": {
    "tags": []
   },
   "outputs": [
    {
     "name": "stdout",
     "output_type": "stream",
     "text": [
      "Remanente de Periodos Diferntes a 202301 ok\n"
     ]
    }
   ],
   "source": [
    "# Aislamiento de Periodo Actual para posterior Actualización en Archivo de historia\n",
    "df=spark.sql(f\"select *\\\n",
    "              from tmp_remanente_hist\\\n",
    "              where dcv_ptributario != '{Periodo}'\")\n",
    "\n",
    "df.write.mode('overwrite').format(\"parquet\").save(\"abfs://data@datalakesii.dfs.core.windows.net/DatosOrigen/lr-629/iva_credito/intermedia/remanente_parcial\")\n",
    "\n",
    "print(\"Remanente de Periodos Diferntes a \" + str(Periodo) + \" ok\")"
   ]
  },
  {
   "cell_type": "code",
   "execution_count": 91,
   "id": "1b958d10-3663-4081-a5cd-bbbed3b4d09f",
   "metadata": {
    "tags": []
   },
   "outputs": [],
   "source": [
    "spark.read.parquet(\"abfs://data@datalakesii.dfs.core.windows.net/DatosOrigen/lr-629/iva_credito/intermedia/remanente_parcial\")\\\n",
    "     .registerTempTable('tmp_remanente_parcial')"
   ]
  },
  {
   "cell_type": "code",
   "execution_count": 92,
   "id": "7848a1de-0f1d-40f5-94fa-1daed7d0e49a",
   "metadata": {
    "tags": []
   },
   "outputs": [],
   "source": [
    "spark.read.parquet(\"abfs://data@datalakesii.dfs.core.windows.net/DatosOrigen/lr-629/iva_credito/intermedia/remanente_ant\")\\\n",
    "     .registerTempTable('tmp_remanente_ant')\n"
   ]
  },
  {
   "cell_type": "code",
   "execution_count": 93,
   "id": "6c7397d7-3aad-4e9e-8ef0-4b21f897060a",
   "metadata": {
    "tags": []
   },
   "outputs": [],
   "source": [
    "spark.read.parquet(\"abfs://data@datalakesii.dfs.core.windows.net/DatosOrigen/lr-629/iva_credito/intermedia/f29_1\")\\\n",
    "     .registerTempTable('tmp_f29_1')"
   ]
  },
  {
   "cell_type": "code",
   "execution_count": 94,
   "id": "b26b0a91-a9cb-4361-8a5c-1ad929e51c91",
   "metadata": {
    "tags": []
   },
   "outputs": [
    {
     "name": "stderr",
     "output_type": "stream",
     "text": [
      "                                                                                \r"
     ]
    },
    {
     "name": "stdout",
     "output_type": "stream",
     "text": [
      "Actualización de Remanente ok\n",
      "******** Fin del Proceso ********\n"
     ]
    }
   ],
   "source": [
    "# Actualización de Remanente Histórico de información del mes en proceso\n",
    "df=spark.sql(f\"select *\\\n",
    "              from tmp_remanente_parcial as t1\\\n",
    "              union\\\n",
    "              select t1.dcv_ptributario, t1.receptor, f29_neto_reci,\\\n",
    "                      t2.periodo_ant, \\\n",
    "                      t2.f29_77_ant, t2.prop_total_cont_an_ant,t2.prop_remanente_cont as remanente_cont,\\\n",
    "                      t3.F29_c_504,\\\n",
    "                      iva_neto_cdo_a1_rem,prop_neto_cdo_a1_rem,\\\n",
    "                      iva_neto_cdo_a2_rem,prop_neto_cdo_a2_rem,\\\n",
    "                      iva_neto_cdo_a3_rem,prop_neto_cdo_a3_rem,\\\n",
    "                      iva_neto_cdo_a4_rem,prop_neto_cdo_a4_rem,\\\n",
    "                      iva_neto_cdo_a5_rem,prop_neto_cdo_a5_rem,\\\n",
    "                      total_cont_rem,prop_total_cont_rem,\\\n",
    "                       iva_neto_cdo_a1_nd,prop_neto_cdo_a1_nd,\\\n",
    "                       iva_neto_cdo_a2_nd,prop_neto_cdo_a2_nd,\\\n",
    "                       iva_neto_cdo_a3_nd,prop_neto_cdo_a3_nd,\\\n",
    "                       iva_neto_cdo_a4_nd,prop_neto_cdo_a4_nd,\\\n",
    "                       iva_neto_cdo_a5_nd,prop_neto_cdo_a5_nd,\\\n",
    "                       total_cont_nd,prop_total_cont_nd,\\\n",
    "                       iva_neto_cdo_a1_al,prop_neto_cdo_a1_al,\\\n",
    "                       iva_neto_cdo_a2_al,prop_neto_cdo_a2_al,\\\n",
    "                       iva_neto_cdo_a3_al,prop_neto_cdo_a3_al,\\\n",
    "                       iva_neto_cdo_a4_al,prop_neto_cdo_a4_al,\\\n",
    "                       iva_neto_cdo_a5_al,prop_neto_cdo_a5_al,\\\n",
    "                       total_cont_al,prop_total_cont_al,\\\n",
    "                       iva_neto_cdo_a1_w08,prop_neto_cdo_a1_w08,\\\n",
    "                       iva_neto_cdo_a2_w08,prop_neto_cdo_a2_w08,\\\n",
    "                       iva_neto_cdo_a3_w08,prop_neto_cdo_a3_w08,\\\n",
    "                       iva_neto_cdo_a4_w08,prop_neto_cdo_a4_w08,\\\n",
    "                       iva_neto_cdo_a5_w08,prop_neto_cdo_a5_w08,\\\n",
    "                       total_cont_w08,prop_total_cont_w08,\\\n",
    "                       iva_neto_cdo_a1_ed30,prop_neto_cdo_a1_ed30,\\\n",
    "                       iva_neto_cdo_a2_ed30,prop_neto_cdo_a2_ed30,\\\n",
    "                       iva_neto_cdo_a3_ed30,prop_neto_cdo_a3_ed30,\\\n",
    "                       iva_neto_cdo_a4_ed30,prop_neto_cdo_a4_ed30,\\\n",
    "                       iva_neto_cdo_a5_ed30,prop_neto_cdo_a5_ed30,\\\n",
    "                       total_cont_ed30,prop_total_cont_ed30,\\\n",
    "                       iva_neto_cdo_a1_ce,prop_neto_cdo_a1_ce,\\\n",
    "                       iva_neto_cdo_a2_ce,prop_neto_cdo_a2_ce,\\\n",
    "                       iva_neto_cdo_a3_ce,prop_neto_cdo_a3_ce,\\\n",
    "                       iva_neto_cdo_a4_ce,prop_neto_cdo_a4_ce,\\\n",
    "                       iva_neto_cdo_a5_ce,prop_neto_cdo_a5_ce,\\\n",
    "                       total_cont_ce,prop_total_cont_ce,\\\n",
    "                       iva_neto_cdo_a1_fm01,prop_neto_cdo_a1_fm01,\\\n",
    "                       iva_neto_cdo_a2_fm01,prop_neto_cdo_a2_fm01,\\\n",
    "                       iva_neto_cdo_a3_fm01,prop_neto_cdo_a3_fm01,\\\n",
    "                       iva_neto_cdo_a4_fm01,prop_neto_cdo_a4_fm01,\\\n",
    "                       iva_neto_cdo_a5_fm01,prop_neto_cdo_a5_fm01,\\\n",
    "                       total_cont_fm01,prop_total_cont_fm01,\\\n",
    "                       iva_neto_cdo_a1_an,prop_neto_cdo_a1_an,\\\n",
    "                       iva_neto_cdo_a2_an,prop_neto_cdo_a2_an,\\\n",
    "                       iva_neto_cdo_a3_an,prop_neto_cdo_a3_an,\\\n",
    "                       iva_neto_cdo_a4_an,prop_neto_cdo_a4_an,\\\n",
    "                       iva_neto_cdo_a5_an,prop_neto_cdo_a5_an,\\\n",
    "                       total_cont_an,prop_total_cont_an\\\n",
    "                from tmp_historico as t1\\\n",
    "                left join tmp_remanente_ant as t2 on t1.receptor = t2.receptor and t1.dcv_ptributario = t2.periodo\\\n",
    "                left join tmp_f29_1 as t3 on t1.receptor = t3.cont_rut\\\n",
    "                left join tmp_remanente_ant as t4 on t1.receptor = t4.receptor and t4.periodo_ant = '{Periodo_Ant}'\\\n",
    "                where t1.dcv_ptributario = '{Periodo}'\") \n",
    "\n",
    "df.write.mode('overwrite').format(\"parquet\").save(\"abfs://data@datalakesii.dfs.core.windows.net/DatosOrigen/lr-629/iva_credito/intermedia/remanente_hist_updated\")\n",
    "\n",
    "print(\"Actualización de Remanente ok\")\n",
    "print(\"******** Fin del Proceso ********\")"
   ]
  }
 ],
 "metadata": {
  "kernelspec": {
   "display_name": "Python 3 (ipykernel)",
   "language": "python",
   "name": "python3"
  },
  "language_info": {
   "codemirror_mode": {
    "name": "ipython",
    "version": 3
   },
   "file_extension": ".py",
   "mimetype": "text/x-python",
   "name": "python",
   "nbconvert_exporter": "python",
   "pygments_lexer": "ipython3",
   "version": "3.10.13"
  }
 },
 "nbformat": 4,
 "nbformat_minor": 5
}
